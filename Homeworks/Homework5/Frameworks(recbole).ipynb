{
  "nbformat": 4,
  "nbformat_minor": 0,
  "metadata": {
    "colab": {
      "provenance": []
    },
    "kernelspec": {
      "name": "python3",
      "display_name": "Python 3"
    },
    "language_info": {
      "name": "python"
    }
  },
  "cells": [
    {
      "cell_type": "code",
      "source": [
        "!pip -q install recbole ray kmeans_pytorch"
      ],
      "metadata": {
        "id": "7JXS5DvVHFIG"
      },
      "execution_count": 57,
      "outputs": []
    },
    {
      "cell_type": "code",
      "execution_count": 14,
      "metadata": {
        "id": "Go4YY0Z1CwRR"
      },
      "outputs": [],
      "source": [
        "import ast\n",
        "import json\n",
        "import matplotlib.pyplot as plt\n",
        "import numpy as np\n",
        "import os\n",
        "import pandas as pd\n",
        "import pickle\n",
        "\n",
        "import warnings\n",
        "warnings.filterwarnings('ignore')\n",
        "\n",
        "from collections import Counter\n",
        "from random import randint, random\n",
        "from scipy.sparse import coo_matrix, hstack\n",
        "from sklearn.metrics.pairwise import euclidean_distances, cosine_distances, cosine_similarity\n",
        "import logging\n",
        "from logging import getLogger\n",
        "from recbole.config import Config\n",
        "from recbole.data import create_dataset, data_preparation\n",
        "from recbole.model.sequential_recommender import GRU4Rec, Caser\n",
        "from recbole.trainer import Trainer\n",
        "from recbole.utils import init_seed, init_logger\n",
        "from recbole.quick_start import run_recbole"
      ]
    },
    {
      "cell_type": "code",
      "source": [
        "import warnings\n",
        "warnings.filterwarnings('ignore')"
      ],
      "metadata": {
        "id": "TJ_LBZH6Ehjx"
      },
      "execution_count": 4,
      "outputs": []
    },
    {
      "cell_type": "code",
      "source": [
        "\n",
        "users_df = pd.read_csv(\"/content/drive/MyDrive/interactions_processed_kion.csv\")\n",
        "items_df = pd.read_csv(\"/content/drive/MyDrive/items_processed_kion.csv\")\n",
        "interactions_df = pd.read_csv(\"/content/drive/MyDrive/interactions_processed_kion.csv\")"
      ],
      "metadata": {
        "id": "EjCQuQkzEqIh"
      },
      "execution_count": 5,
      "outputs": []
    },
    {
      "cell_type": "code",
      "source": [
        "interactions_df['t_dat'] = pd.to_datetime(interactions_df['last_watch_dt'], format=\"%Y-%m-%d\")\n",
        "interactions_df['timestamp'] = interactions_df.t_dat.values.astype(np.int64) // 10 ** 9"
      ],
      "metadata": {
        "id": "7JOz_2BUGuTV"
      },
      "execution_count": 6,
      "outputs": []
    },
    {
      "cell_type": "code",
      "source": [
        "df = interactions_df[['user_id', 'item_id', 'timestamp']].rename(\n",
        "    columns={'user_id': 'user_id:token', 'item_id': 'item_id:token', 'timestamp': 'timestamp:float'})"
      ],
      "metadata": {
        "id": "NL8rDb9nGykj"
      },
      "execution_count": 7,
      "outputs": []
    },
    {
      "cell_type": "code",
      "source": [
        "!mkdir recbox_data"
      ],
      "metadata": {
        "id": "BYYJalY3G1J2"
      },
      "execution_count": 8,
      "outputs": []
    },
    {
      "cell_type": "code",
      "source": [
        "df.to_csv('recbox_data/recbox_data.inter', index=False, sep='\\t')"
      ],
      "metadata": {
        "id": "alzs6766G1-C"
      },
      "execution_count": 9,
      "outputs": []
    },
    {
      "cell_type": "code",
      "source": [
        "parameter_dict = {\n",
        "    'data_path': '',\n",
        "    'USER_ID_FIELD': 'user_id',\n",
        "    'ITEM_ID_FIELD': 'item_id',\n",
        "    'TIME_FIELD': 'timestamp',\n",
        "    'device': 'GPU',\n",
        "    'user_inter_num_interval': \"[40,inf)\",\n",
        "    'item_inter_num_interval': \"[40,inf)\",\n",
        "    'load_col': {'inter': ['user_id', 'item_id', 'timestamp']},\n",
        "    'neg_sampling': None,\n",
        "    'epochs': 10,\n",
        "    'eval_args': {\n",
        "        'split': {'RS': [9, 0, 1]},\n",
        "        'group_by': 'user',\n",
        "        'order': 'TO',\n",
        "        'mode': 'full'}\n",
        "}\n",
        "config = Config(model='MultiVAE', dataset='recbox_data', config_dict=parameter_dict)\n",
        "\n",
        "# init random seed\n",
        "init_seed(config['seed'], config['reproducibility'])\n",
        "\n",
        "# logger initialization\n",
        "init_logger(config)\n",
        "logger = getLogger()\n",
        "# Create handlers\n",
        "c_handler = logging.StreamHandler()\n",
        "c_handler.setLevel(logging.INFO)\n",
        "logger.addHandler(c_handler)\n",
        "\n",
        "# write config info into log\n",
        "# logger.info(config)"
      ],
      "metadata": {
        "colab": {
          "base_uri": "https://localhost:8080/"
        },
        "id": "NZwy2TATG5eu",
        "outputId": "7c50bcbf-4f35-46e4-8234-40c2a2b96059"
      },
      "execution_count": 20,
      "outputs": [
        {
          "output_type": "stream",
          "name": "stderr",
          "text": [
            "WARNING:root:command line args [-f /root/.local/share/jupyter/runtime/kernel-4ee6d0af-7037-4200-8ee9-d73632a60040.json] will not be used in RecBole\n",
            "command line args [-f /root/.local/share/jupyter/runtime/kernel-4ee6d0af-7037-4200-8ee9-d73632a60040.json] will not be used in RecBole\n"
          ]
        }
      ]
    },
    {
      "cell_type": "code",
      "source": [
        "dataset = create_dataset(config)\n",
        "logger.info(dataset)"
      ],
      "metadata": {
        "id": "Yx4poAYEIUd3"
      },
      "execution_count": 16,
      "outputs": []
    },
    {
      "cell_type": "code",
      "source": [
        "# dataset splitting\n",
        "train_data, valid_data, test_data = data_preparation(config, dataset)"
      ],
      "metadata": {
        "id": "OoEI-GKRIXR_"
      },
      "execution_count": 17,
      "outputs": []
    },
    {
      "cell_type": "code",
      "source": [
        "import time\n",
        "from recbole.quick_start import run_recbole\n",
        "\n",
        "model_list = ['MultiVAE', 'MultiDAE', 'MacridVAE',\"BPR\", \"NeuMF\",\"RecVAE\", 'RepeatNet', \"LightGCN\"]  # Added other models\n",
        "\n",
        "for model_name in model_list:\n",
        "    print(f\"Running {model_name}...\")\n",
        "    start_time = time.time()\n",
        "\n",
        "    # Run RecBole with the specified model\n",
        "    result = run_recbole(model=model_name, dataset=\"recbox_data\", config_dict=parameter_dict)\n",
        "\n",
        "    elapsed_time = time.time() - start_time\n",
        "    print(f\"{model_name} took {elapsed_time / 60:.2f} mins\")\n",
        "    print(result)\n"
      ],
      "metadata": {
        "colab": {
          "base_uri": "https://localhost:8080/",
          "height": 1000
        },
        "id": "60U1PctyJd-5",
        "outputId": "c40d36dd-3736-45c7-c2c3-306355a41c6e"
      },
      "execution_count": 21,
      "outputs": [
        {
          "metadata": {
            "tags": null
          },
          "name": "stdout",
          "output_type": "stream",
          "text": [
            "Running MultiVAE...\n"
          ]
        },
        {
          "metadata": {
            "tags": null
          },
          "name": "stderr",
          "output_type": "stream",
          "text": [
            "WARNING:root:command line args [-f /root/.local/share/jupyter/runtime/kernel-4ee6d0af-7037-4200-8ee9-d73632a60040.json] will not be used in RecBole\n",
            "command line args [-f /root/.local/share/jupyter/runtime/kernel-4ee6d0af-7037-4200-8ee9-d73632a60040.json] will not be used in RecBole\n",
            "command line args [-f /root/.local/share/jupyter/runtime/kernel-4ee6d0af-7037-4200-8ee9-d73632a60040.json] will not be used in RecBole\n",
            "WARNING:root:Max value of user's history interaction records has reached 20.9471766848816% of the total.\n",
            "Max value of user's history interaction records has reached 20.9471766848816% of the total.\n",
            "Max value of user's history interaction records has reached 20.9471766848816% of the total.\n",
            "Train     0: 100%|████████████████████████████████████████████████████| 7/7 [00:08<00:00,  1.21s/it]\n",
            "Train     1: 100%|████████████████████████████████████████████████████| 7/7 [00:06<00:00,  1.16it/s]\n",
            "Train     2: 100%|████████████████████████████████████████████████████| 7/7 [00:07<00:00,  1.08s/it]\n",
            "Train     3: 100%|████████████████████████████████████████████████████| 7/7 [00:06<00:00,  1.05it/s]\n",
            "Train     4: 100%|████████████████████████████████████████████████████| 7/7 [00:06<00:00,  1.08it/s]\n",
            "Train     5: 100%|████████████████████████████████████████████████████| 7/7 [00:07<00:00,  1.08s/it]\n",
            "Train     6: 100%|████████████████████████████████████████████████████| 7/7 [00:05<00:00,  1.28it/s]\n",
            "Train     7: 100%|████████████████████████████████████████████████████| 7/7 [00:07<00:00,  1.08s/it]\n",
            "Train     8: 100%|████████████████████████████████████████████████████| 7/7 [00:05<00:00,  1.21it/s]\n",
            "Train     9: 100%|████████████████████████████████████████████████████| 7/7 [00:05<00:00,  1.21it/s]\n",
            "Evaluate   : 100%|███████████████████████████████████████████| 13354/13354 [00:49<00:00, 268.82it/s]\n"
          ]
        },
        {
          "metadata": {
            "tags": null
          },
          "name": "stdout",
          "output_type": "stream",
          "text": [
            "MultiVAE took 3.16 mins\n",
            "{'best_valid_score': -inf, 'valid_score_bigger': True, 'best_valid_result': None, 'test_result': OrderedDict([('recall@10', 0.084), ('mrr@10', 0.1695), ('ndcg@10', 0.0825), ('hit@10', 0.3503), ('precision@10', 0.0467)])}\n",
            "Running MultiDAE...\n"
          ]
        },
        {
          "metadata": {
            "tags": null
          },
          "name": "stderr",
          "output_type": "stream",
          "text": [
            "WARNING:root:command line args [-f /root/.local/share/jupyter/runtime/kernel-4ee6d0af-7037-4200-8ee9-d73632a60040.json] will not be used in RecBole\n",
            "command line args [-f /root/.local/share/jupyter/runtime/kernel-4ee6d0af-7037-4200-8ee9-d73632a60040.json] will not be used in RecBole\n",
            "command line args [-f /root/.local/share/jupyter/runtime/kernel-4ee6d0af-7037-4200-8ee9-d73632a60040.json] will not be used in RecBole\n",
            "WARNING:root:Max value of user's history interaction records has reached 20.9471766848816% of the total.\n",
            "Max value of user's history interaction records has reached 20.9471766848816% of the total.\n",
            "Max value of user's history interaction records has reached 20.9471766848816% of the total.\n",
            "Train     0: 100%|████████████████████████████████████████████████████| 7/7 [00:05<00:00,  1.32it/s]\n",
            "Train     1: 100%|████████████████████████████████████████████████████| 7/7 [00:07<00:00,  1.06s/it]\n",
            "Train     2: 100%|████████████████████████████████████████████████████| 7/7 [00:05<00:00,  1.19it/s]\n",
            "Train     3: 100%|████████████████████████████████████████████████████| 7/7 [00:05<00:00,  1.31it/s]\n",
            "Train     4: 100%|████████████████████████████████████████████████████| 7/7 [00:07<00:00,  1.11s/it]\n",
            "Train     5: 100%|████████████████████████████████████████████████████| 7/7 [00:05<00:00,  1.24it/s]\n",
            "Train     6: 100%|████████████████████████████████████████████████████| 7/7 [00:06<00:00,  1.05it/s]\n",
            "Train     7: 100%|████████████████████████████████████████████████████| 7/7 [00:06<00:00,  1.06it/s]\n",
            "Train     8: 100%|████████████████████████████████████████████████████| 7/7 [00:05<00:00,  1.28it/s]\n",
            "Train     9: 100%|████████████████████████████████████████████████████| 7/7 [00:07<00:00,  1.12s/it]\n",
            "Evaluate   : 100%|███████████████████████████████████████████| 13354/13354 [00:47<00:00, 281.16it/s]\n"
          ]
        },
        {
          "metadata": {
            "tags": null
          },
          "name": "stdout",
          "output_type": "stream",
          "text": [
            "MultiDAE took 3.10 mins\n",
            "{'best_valid_score': -inf, 'valid_score_bigger': True, 'best_valid_result': None, 'test_result': OrderedDict([('recall@10', 0.0829), ('mrr@10', 0.1655), ('ndcg@10', 0.081), ('hit@10', 0.3438), ('precision@10', 0.0459)])}\n",
            "Running MacridVAE...\n"
          ]
        },
        {
          "metadata": {
            "tags": null
          },
          "name": "stderr",
          "output_type": "stream",
          "text": [
            "WARNING:root:command line args [-f /root/.local/share/jupyter/runtime/kernel-4ee6d0af-7037-4200-8ee9-d73632a60040.json] will not be used in RecBole\n",
            "command line args [-f /root/.local/share/jupyter/runtime/kernel-4ee6d0af-7037-4200-8ee9-d73632a60040.json] will not be used in RecBole\n",
            "command line args [-f /root/.local/share/jupyter/runtime/kernel-4ee6d0af-7037-4200-8ee9-d73632a60040.json] will not be used in RecBole\n",
            "WARNING:root:Max value of user's history interaction records has reached 20.9471766848816% of the total.\n",
            "Max value of user's history interaction records has reached 20.9471766848816% of the total.\n",
            "Max value of user's history interaction records has reached 20.9471766848816% of the total.\n",
            "Train     0: 100%|████████████████████████████████████████████████████| 7/7 [00:49<00:00,  7.01s/it]\n",
            "Train     1: 100%|████████████████████████████████████████████████████| 7/7 [00:47<00:00,  6.83s/it]\n",
            "Train     2: 100%|████████████████████████████████████████████████████| 7/7 [00:47<00:00,  6.74s/it]\n",
            "Train     3: 100%|████████████████████████████████████████████████████| 7/7 [00:46<00:00,  6.67s/it]\n",
            "Train     4: 100%|████████████████████████████████████████████████████| 7/7 [00:46<00:00,  6.61s/it]\n",
            "Train     5: 100%|████████████████████████████████████████████████████| 7/7 [00:46<00:00,  6.60s/it]\n",
            "Train     6: 100%|████████████████████████████████████████████████████| 7/7 [00:46<00:00,  6.70s/it]\n",
            "Train     7: 100%|████████████████████████████████████████████████████| 7/7 [00:47<00:00,  6.78s/it]\n",
            "Train     8: 100%|████████████████████████████████████████████████████| 7/7 [00:49<00:00,  7.07s/it]\n",
            "Train     9: 100%|████████████████████████████████████████████████████| 7/7 [00:46<00:00,  6.68s/it]\n",
            "Evaluate   : 100%|████████████████████████████████████████████| 13354/13354 [03:07<00:00, 71.25it/s]\n"
          ]
        },
        {
          "metadata": {
            "tags": null
          },
          "name": "stdout",
          "output_type": "stream",
          "text": [
            "MacridVAE took 12.16 mins\n",
            "{'best_valid_score': -inf, 'valid_score_bigger': True, 'best_valid_result': None, 'test_result': OrderedDict([('recall@10', 0.0835), ('mrr@10', 0.1574), ('ndcg@10', 0.0788), ('hit@10', 0.3499), ('precision@10', 0.0461)])}\n",
            "Running BPR...\n"
          ]
        },
        {
          "metadata": {
            "tags": null
          },
          "name": "stderr",
          "output_type": "stream",
          "text": [
            "WARNING:root:command line args [-f /root/.local/share/jupyter/runtime/kernel-4ee6d0af-7037-4200-8ee9-d73632a60040.json] will not be used in RecBole\n",
            "command line args [-f /root/.local/share/jupyter/runtime/kernel-4ee6d0af-7037-4200-8ee9-d73632a60040.json] will not be used in RecBole\n",
            "command line args [-f /root/.local/share/jupyter/runtime/kernel-4ee6d0af-7037-4200-8ee9-d73632a60040.json] will not be used in RecBole\n",
            "Train     0: 100%|████████████████████████████████████████████████| 378/378 [00:12<00:00, 30.97it/s]\n",
            "Train     1: 100%|████████████████████████████████████████████████| 378/378 [00:12<00:00, 29.41it/s]\n",
            "Train     2: 100%|████████████████████████████████████████████████| 378/378 [00:12<00:00, 29.35it/s]\n",
            "Train     3: 100%|████████████████████████████████████████████████| 378/378 [00:12<00:00, 29.36it/s]\n",
            "Train     4: 100%|████████████████████████████████████████████████| 378/378 [00:12<00:00, 30.51it/s]\n",
            "Train     5: 100%|████████████████████████████████████████████████| 378/378 [00:11<00:00, 31.96it/s]\n",
            "Train     6: 100%|████████████████████████████████████████████████| 378/378 [00:12<00:00, 29.48it/s]\n",
            "Train     7: 100%|████████████████████████████████████████████████| 378/378 [00:12<00:00, 29.35it/s]\n",
            "Train     8: 100%|████████████████████████████████████████████████| 378/378 [00:12<00:00, 29.31it/s]\n",
            "Train     9: 100%|████████████████████████████████████████████████| 378/378 [00:12<00:00, 29.32it/s]\n",
            "Evaluate   : 100%|██████████████████████████████████████████| 13354/13354 [00:10<00:00, 1215.28it/s]\n"
          ]
        },
        {
          "metadata": {
            "tags": null
          },
          "name": "stdout",
          "output_type": "stream",
          "text": [
            "BPR took 3.41 mins\n",
            "{'best_valid_score': -inf, 'valid_score_bigger': True, 'best_valid_result': None, 'test_result': OrderedDict([('recall@10', 0.0824), ('mrr@10', 0.1716), ('ndcg@10', 0.0819), ('hit@10', 0.3479), ('precision@10', 0.0457)])}\n",
            "Running NeuMF...\n"
          ]
        },
        {
          "metadata": {
            "tags": null
          },
          "name": "stderr",
          "output_type": "stream",
          "text": [
            "WARNING:root:command line args [-f /root/.local/share/jupyter/runtime/kernel-4ee6d0af-7037-4200-8ee9-d73632a60040.json] will not be used in RecBole\n",
            "command line args [-f /root/.local/share/jupyter/runtime/kernel-4ee6d0af-7037-4200-8ee9-d73632a60040.json] will not be used in RecBole\n",
            "command line args [-f /root/.local/share/jupyter/runtime/kernel-4ee6d0af-7037-4200-8ee9-d73632a60040.json] will not be used in RecBole\n",
            "Train     0: 100%|████████████████████████████████████████████████| 755/755 [00:49<00:00, 15.29it/s]\n",
            "Train     1: 100%|████████████████████████████████████████████████| 755/755 [00:52<00:00, 14.38it/s]\n",
            "Train     2: 100%|████████████████████████████████████████████████| 755/755 [00:50<00:00, 14.96it/s]\n",
            "Train     3: 100%|████████████████████████████████████████████████| 755/755 [00:48<00:00, 15.63it/s]\n",
            "Train     4: 100%|████████████████████████████████████████████████| 755/755 [00:48<00:00, 15.48it/s]\n",
            "Train     5: 100%|████████████████████████████████████████████████| 755/755 [00:48<00:00, 15.52it/s]\n",
            "Train     6: 100%|████████████████████████████████████████████████| 755/755 [00:48<00:00, 15.59it/s]\n",
            "Train     7: 100%|████████████████████████████████████████████████| 755/755 [00:48<00:00, 15.47it/s]\n",
            "Train     8: 100%|████████████████████████████████████████████████| 755/755 [00:49<00:00, 15.30it/s]\n",
            "Train     9: 100%|████████████████████████████████████████████████| 755/755 [00:49<00:00, 15.27it/s]\n",
            "Evaluate   : 100%|███████████████████████████████████████████| 13354/13354 [02:01<00:00, 110.27it/s]\n"
          ]
        },
        {
          "metadata": {
            "tags": null
          },
          "name": "stdout",
          "output_type": "stream",
          "text": [
            "NeuMF took 11.38 mins\n",
            "{'best_valid_score': -inf, 'valid_score_bigger': True, 'best_valid_result': None, 'test_result': OrderedDict([('recall@10', 0.069), ('mrr@10', 0.1173), ('ndcg@10', 0.0605), ('hit@10', 0.3009), ('precision@10', 0.0381)])}\n",
            "Running RecVAE...\n"
          ]
        },
        {
          "metadata": {
            "tags": null
          },
          "name": "stderr",
          "output_type": "stream",
          "text": [
            "WARNING:root:command line args [-f /root/.local/share/jupyter/runtime/kernel-4ee6d0af-7037-4200-8ee9-d73632a60040.json] will not be used in RecBole\n",
            "command line args [-f /root/.local/share/jupyter/runtime/kernel-4ee6d0af-7037-4200-8ee9-d73632a60040.json] will not be used in RecBole\n",
            "command line args [-f /root/.local/share/jupyter/runtime/kernel-4ee6d0af-7037-4200-8ee9-d73632a60040.json] will not be used in RecBole\n",
            "WARNING:root:Max value of user's history interaction records has reached 20.9471766848816% of the total.\n",
            "Max value of user's history interaction records has reached 20.9471766848816% of the total.\n",
            "Max value of user's history interaction records has reached 20.9471766848816% of the total.\n",
            "Train     0: 100%|████████████████████████████████████████████████████| 7/7 [00:10<00:00,  1.55s/it]\n",
            "Train     0: 100%|████████████████████████████████████████████████████| 7/7 [00:09<00:00,  1.35s/it]\n",
            "Train     0: 100%|████████████████████████████████████████████████████| 7/7 [00:14<00:00,  2.06s/it]\n",
            "Train     0: 100%|████████████████████████████████████████████████████| 7/7 [00:10<00:00,  1.56s/it]\n",
            "Train     1: 100%|████████████████████████████████████████████████████| 7/7 [00:09<00:00,  1.32s/it]\n",
            "Train     1: 100%|████████████████████████████████████████████████████| 7/7 [00:10<00:00,  1.57s/it]\n",
            "Train     1: 100%|████████████████████████████████████████████████████| 7/7 [00:11<00:00,  1.59s/it]\n",
            "Train     1: 100%|████████████████████████████████████████████████████| 7/7 [00:09<00:00,  1.35s/it]\n",
            "Train     2: 100%|████████████████████████████████████████████████████| 7/7 [00:10<00:00,  1.50s/it]\n",
            "Train     2: 100%|████████████████████████████████████████████████████| 7/7 [00:11<00:00,  1.57s/it]\n",
            "Train     2: 100%|████████████████████████████████████████████████████| 7/7 [00:10<00:00,  1.47s/it]\n",
            "Train     2: 100%|████████████████████████████████████████████████████| 7/7 [00:09<00:00,  1.40s/it]\n",
            "Train     3: 100%|████████████████████████████████████████████████████| 7/7 [00:11<00:00,  1.58s/it]\n",
            "Train     3: 100%|████████████████████████████████████████████████████| 7/7 [00:10<00:00,  1.53s/it]\n",
            "Train     3: 100%|████████████████████████████████████████████████████| 7/7 [00:09<00:00,  1.35s/it]\n",
            "Train     3: 100%|████████████████████████████████████████████████████| 7/7 [00:10<00:00,  1.54s/it]\n",
            "Train     4: 100%|████████████████████████████████████████████████████| 7/7 [00:11<00:00,  1.57s/it]\n",
            "Train     4: 100%|████████████████████████████████████████████████████| 7/7 [00:09<00:00,  1.32s/it]\n",
            "Train     4: 100%|████████████████████████████████████████████████████| 7/7 [00:11<00:00,  1.58s/it]\n",
            "Train     4: 100%|████████████████████████████████████████████████████| 7/7 [00:10<00:00,  1.54s/it]\n",
            "Train     5: 100%|████████████████████████████████████████████████████| 7/7 [00:09<00:00,  1.37s/it]\n",
            "Train     5: 100%|████████████████████████████████████████████████████| 7/7 [00:10<00:00,  1.52s/it]\n",
            "Train     5: 100%|████████████████████████████████████████████████████| 7/7 [00:10<00:00,  1.56s/it]\n",
            "Train     5: 100%|████████████████████████████████████████████████████| 7/7 [00:09<00:00,  1.42s/it]\n",
            "Train     6: 100%|████████████████████████████████████████████████████| 7/7 [00:09<00:00,  1.43s/it]\n",
            "Train     6: 100%|████████████████████████████████████████████████████| 7/7 [00:11<00:00,  1.57s/it]\n",
            "Train     6: 100%|████████████████████████████████████████████████████| 7/7 [00:10<00:00,  1.55s/it]\n",
            "Train     6: 100%|████████████████████████████████████████████████████| 7/7 [00:09<00:00,  1.32s/it]\n",
            "Train     7: 100%|████████████████████████████████████████████████████| 7/7 [00:11<00:00,  1.59s/it]\n",
            "Train     7: 100%|████████████████████████████████████████████████████| 7/7 [00:11<00:00,  1.59s/it]\n",
            "Train     7: 100%|████████████████████████████████████████████████████| 7/7 [00:09<00:00,  1.34s/it]\n",
            "Train     7: 100%|████████████████████████████████████████████████████| 7/7 [00:10<00:00,  1.54s/it]\n",
            "Train     8: 100%|████████████████████████████████████████████████████| 7/7 [00:11<00:00,  1.59s/it]\n",
            "Train     8: 100%|████████████████████████████████████████████████████| 7/7 [00:10<00:00,  1.43s/it]\n",
            "Train     8: 100%|████████████████████████████████████████████████████| 7/7 [00:10<00:00,  1.48s/it]\n",
            "Train     8: 100%|████████████████████████████████████████████████████| 7/7 [00:10<00:00,  1.56s/it]\n",
            "Train     9: 100%|████████████████████████████████████████████████████| 7/7 [00:10<00:00,  1.54s/it]\n",
            "Train     9: 100%|████████████████████████████████████████████████████| 7/7 [00:09<00:00,  1.39s/it]\n",
            "Train     9: 100%|████████████████████████████████████████████████████| 7/7 [00:11<00:00,  1.59s/it]\n",
            "Train     9: 100%|████████████████████████████████████████████████████| 7/7 [00:10<00:00,  1.54s/it]\n",
            "Evaluate   : 100%|███████████████████████████████████████████| 13354/13354 [01:02<00:00, 215.37it/s]\n"
          ]
        },
        {
          "metadata": {
            "tags": null
          },
          "name": "stdout",
          "output_type": "stream",
          "text": [
            "RecVAE took 9.20 mins\n",
            "{'best_valid_score': -inf, 'valid_score_bigger': True, 'best_valid_result': None, 'test_result': OrderedDict([('recall@10', 0.0849), ('mrr@10', 0.1697), ('ndcg@10', 0.0828), ('hit@10', 0.3532), ('precision@10', 0.047)])}\n",
            "Running RepeatNet...\n"
          ]
        },
        {
          "output_type": "stream",
          "name": "stderr",
          "text": [
            "WARNING:root:command line args [-f /root/.local/share/jupyter/runtime/kernel-4ee6d0af-7037-4200-8ee9-d73632a60040.json] will not be used in RecBole\n",
            "command line args [-f /root/.local/share/jupyter/runtime/kernel-4ee6d0af-7037-4200-8ee9-d73632a60040.json] will not be used in RecBole\n",
            "command line args [-f /root/.local/share/jupyter/runtime/kernel-4ee6d0af-7037-4200-8ee9-d73632a60040.json] will not be used in RecBole\n",
            "Train     0: 100%|██████████████████████████████████████████████| 743/743 [1:04:34<00:00,  5.21s/it]\n",
            "Train     1: 100%|██████████████████████████████████████████████| 743/743 [1:02:57<00:00,  5.08s/it]\n",
            "Train     2:  65%|███████████████████████████████▏                | 483/743 [40:56<22:02,  5.09s/it]\n"
          ]
        },
        {
          "output_type": "error",
          "ename": "KeyboardInterrupt",
          "evalue": "ignored",
          "traceback": [
            "\u001b[0;31m---------------------------------------------------------------------------\u001b[0m",
            "\u001b[0;31mKeyboardInterrupt\u001b[0m                         Traceback (most recent call last)",
            "\u001b[0;32m<ipython-input-21-4bcb0aca558a>\u001b[0m in \u001b[0;36m<cell line: 6>\u001b[0;34m()\u001b[0m\n\u001b[1;32m      9\u001b[0m \u001b[0;34m\u001b[0m\u001b[0m\n\u001b[1;32m     10\u001b[0m     \u001b[0;31m# Run RecBole with the specified model\u001b[0m\u001b[0;34m\u001b[0m\u001b[0;34m\u001b[0m\u001b[0m\n\u001b[0;32m---> 11\u001b[0;31m     \u001b[0mresult\u001b[0m \u001b[0;34m=\u001b[0m \u001b[0mrun_recbole\u001b[0m\u001b[0;34m(\u001b[0m\u001b[0mmodel\u001b[0m\u001b[0;34m=\u001b[0m\u001b[0mmodel_name\u001b[0m\u001b[0;34m,\u001b[0m \u001b[0mdataset\u001b[0m\u001b[0;34m=\u001b[0m\u001b[0;34m\"recbox_data\"\u001b[0m\u001b[0;34m,\u001b[0m \u001b[0mconfig_dict\u001b[0m\u001b[0;34m=\u001b[0m\u001b[0mparameter_dict\u001b[0m\u001b[0;34m)\u001b[0m\u001b[0;34m\u001b[0m\u001b[0;34m\u001b[0m\u001b[0m\n\u001b[0m\u001b[1;32m     12\u001b[0m \u001b[0;34m\u001b[0m\u001b[0m\n\u001b[1;32m     13\u001b[0m     \u001b[0melapsed_time\u001b[0m \u001b[0;34m=\u001b[0m \u001b[0mtime\u001b[0m\u001b[0;34m.\u001b[0m\u001b[0mtime\u001b[0m\u001b[0;34m(\u001b[0m\u001b[0;34m)\u001b[0m \u001b[0;34m-\u001b[0m \u001b[0mstart_time\u001b[0m\u001b[0;34m\u001b[0m\u001b[0;34m\u001b[0m\u001b[0m\n",
            "\u001b[0;32m/usr/local/lib/python3.10/dist-packages/recbole/quick_start/quick_start.py\u001b[0m in \u001b[0;36mrun_recbole\u001b[0;34m(model, dataset, config_file_list, config_dict, saved, queue)\u001b[0m\n\u001b[1;32m    146\u001b[0m \u001b[0;34m\u001b[0m\u001b[0m\n\u001b[1;32m    147\u001b[0m     \u001b[0;31m# model training\u001b[0m\u001b[0;34m\u001b[0m\u001b[0;34m\u001b[0m\u001b[0m\n\u001b[0;32m--> 148\u001b[0;31m     best_valid_score, best_valid_result = trainer.fit(\n\u001b[0m\u001b[1;32m    149\u001b[0m         \u001b[0mtrain_data\u001b[0m\u001b[0;34m,\u001b[0m \u001b[0mvalid_data\u001b[0m\u001b[0;34m,\u001b[0m \u001b[0msaved\u001b[0m\u001b[0;34m=\u001b[0m\u001b[0msaved\u001b[0m\u001b[0;34m,\u001b[0m \u001b[0mshow_progress\u001b[0m\u001b[0;34m=\u001b[0m\u001b[0mconfig\u001b[0m\u001b[0;34m[\u001b[0m\u001b[0;34m\"show_progress\"\u001b[0m\u001b[0;34m]\u001b[0m\u001b[0;34m\u001b[0m\u001b[0;34m\u001b[0m\u001b[0m\n\u001b[1;32m    150\u001b[0m     )\n",
            "\u001b[0;32m/usr/local/lib/python3.10/dist-packages/recbole/trainer/trainer.py\u001b[0m in \u001b[0;36mfit\u001b[0;34m(self, train_data, valid_data, verbose, saved, show_progress, callback_fn)\u001b[0m\n\u001b[1;32m    437\u001b[0m             \u001b[0;31m# train\u001b[0m\u001b[0;34m\u001b[0m\u001b[0;34m\u001b[0m\u001b[0m\n\u001b[1;32m    438\u001b[0m             \u001b[0mtraining_start_time\u001b[0m \u001b[0;34m=\u001b[0m \u001b[0mtime\u001b[0m\u001b[0;34m(\u001b[0m\u001b[0;34m)\u001b[0m\u001b[0;34m\u001b[0m\u001b[0;34m\u001b[0m\u001b[0m\n\u001b[0;32m--> 439\u001b[0;31m             train_loss = self._train_epoch(\n\u001b[0m\u001b[1;32m    440\u001b[0m                 \u001b[0mtrain_data\u001b[0m\u001b[0;34m,\u001b[0m \u001b[0mepoch_idx\u001b[0m\u001b[0;34m,\u001b[0m \u001b[0mshow_progress\u001b[0m\u001b[0;34m=\u001b[0m\u001b[0mshow_progress\u001b[0m\u001b[0;34m\u001b[0m\u001b[0;34m\u001b[0m\u001b[0m\n\u001b[1;32m    441\u001b[0m             )\n",
            "\u001b[0;32m/usr/local/lib/python3.10/dist-packages/recbole/trainer/trainer.py\u001b[0m in \u001b[0;36m_train_epoch\u001b[0;34m(self, train_data, epoch_idx, loss_func, show_progress)\u001b[0m\n\u001b[1;32m    243\u001b[0m \u001b[0;34m\u001b[0m\u001b[0m\n\u001b[1;32m    244\u001b[0m             \u001b[0;32mwith\u001b[0m \u001b[0mtorch\u001b[0m\u001b[0;34m.\u001b[0m\u001b[0mautocast\u001b[0m\u001b[0;34m(\u001b[0m\u001b[0mdevice_type\u001b[0m\u001b[0;34m=\u001b[0m\u001b[0mself\u001b[0m\u001b[0;34m.\u001b[0m\u001b[0mdevice\u001b[0m\u001b[0;34m.\u001b[0m\u001b[0mtype\u001b[0m\u001b[0;34m,\u001b[0m \u001b[0menabled\u001b[0m\u001b[0;34m=\u001b[0m\u001b[0mself\u001b[0m\u001b[0;34m.\u001b[0m\u001b[0menable_amp\u001b[0m\u001b[0;34m)\u001b[0m\u001b[0;34m:\u001b[0m\u001b[0;34m\u001b[0m\u001b[0;34m\u001b[0m\u001b[0m\n\u001b[0;32m--> 245\u001b[0;31m                 \u001b[0mlosses\u001b[0m \u001b[0;34m=\u001b[0m \u001b[0mloss_func\u001b[0m\u001b[0;34m(\u001b[0m\u001b[0minteraction\u001b[0m\u001b[0;34m)\u001b[0m\u001b[0;34m\u001b[0m\u001b[0;34m\u001b[0m\u001b[0m\n\u001b[0m\u001b[1;32m    246\u001b[0m \u001b[0;34m\u001b[0m\u001b[0m\n\u001b[1;32m    247\u001b[0m             \u001b[0;32mif\u001b[0m \u001b[0misinstance\u001b[0m\u001b[0;34m(\u001b[0m\u001b[0mlosses\u001b[0m\u001b[0;34m,\u001b[0m \u001b[0mtuple\u001b[0m\u001b[0;34m)\u001b[0m\u001b[0;34m:\u001b[0m\u001b[0;34m\u001b[0m\u001b[0;34m\u001b[0m\u001b[0m\n",
            "\u001b[0;32m/usr/local/lib/python3.10/dist-packages/recbole/model/sequential_recommender/repeatnet.py\u001b[0m in \u001b[0;36mcalculate_loss\u001b[0;34m(self, interaction)\u001b[0m\n\u001b[1;32m    131\u001b[0m         \u001b[0mitem_seq_len\u001b[0m \u001b[0;34m=\u001b[0m \u001b[0minteraction\u001b[0m\u001b[0;34m[\u001b[0m\u001b[0mself\u001b[0m\u001b[0;34m.\u001b[0m\u001b[0mITEM_SEQ_LEN\u001b[0m\u001b[0;34m]\u001b[0m\u001b[0;34m\u001b[0m\u001b[0;34m\u001b[0m\u001b[0m\n\u001b[1;32m    132\u001b[0m         \u001b[0mpos_item\u001b[0m \u001b[0;34m=\u001b[0m \u001b[0minteraction\u001b[0m\u001b[0;34m[\u001b[0m\u001b[0mself\u001b[0m\u001b[0;34m.\u001b[0m\u001b[0mPOS_ITEM_ID\u001b[0m\u001b[0;34m]\u001b[0m\u001b[0;34m\u001b[0m\u001b[0;34m\u001b[0m\u001b[0m\n\u001b[0;32m--> 133\u001b[0;31m         \u001b[0mprediction\u001b[0m \u001b[0;34m=\u001b[0m \u001b[0mself\u001b[0m\u001b[0;34m.\u001b[0m\u001b[0mforward\u001b[0m\u001b[0;34m(\u001b[0m\u001b[0mitem_seq\u001b[0m\u001b[0;34m,\u001b[0m \u001b[0mitem_seq_len\u001b[0m\u001b[0;34m)\u001b[0m\u001b[0;34m\u001b[0m\u001b[0;34m\u001b[0m\u001b[0m\n\u001b[0m\u001b[1;32m    134\u001b[0m         \u001b[0mloss\u001b[0m \u001b[0;34m=\u001b[0m \u001b[0mself\u001b[0m\u001b[0;34m.\u001b[0m\u001b[0mloss_fct\u001b[0m\u001b[0;34m(\u001b[0m\u001b[0;34m(\u001b[0m\u001b[0mprediction\u001b[0m \u001b[0;34m+\u001b[0m \u001b[0;36m1e-8\u001b[0m\u001b[0;34m)\u001b[0m\u001b[0;34m.\u001b[0m\u001b[0mlog\u001b[0m\u001b[0;34m(\u001b[0m\u001b[0;34m)\u001b[0m\u001b[0;34m,\u001b[0m \u001b[0mpos_item\u001b[0m\u001b[0;34m,\u001b[0m \u001b[0mignore_index\u001b[0m\u001b[0;34m=\u001b[0m\u001b[0;36m0\u001b[0m\u001b[0;34m)\u001b[0m\u001b[0;34m\u001b[0m\u001b[0;34m\u001b[0m\u001b[0m\n\u001b[1;32m    135\u001b[0m         \u001b[0;32mif\u001b[0m \u001b[0mself\u001b[0m\u001b[0;34m.\u001b[0m\u001b[0mjoint_train\u001b[0m \u001b[0;32mis\u001b[0m \u001b[0;32mTrue\u001b[0m\u001b[0;34m:\u001b[0m\u001b[0;34m\u001b[0m\u001b[0;34m\u001b[0m\u001b[0m\n",
            "\u001b[0;32m/usr/local/lib/python3.10/dist-packages/recbole/model/sequential_recommender/repeatnet.py\u001b[0m in \u001b[0;36mforward\u001b[0;34m(self, item_seq, item_seq_len)\u001b[0m\n\u001b[1;32m     98\u001b[0m         \u001b[0mtimeline_mask\u001b[0m \u001b[0;34m=\u001b[0m \u001b[0mitem_seq\u001b[0m \u001b[0;34m==\u001b[0m \u001b[0;36m0\u001b[0m\u001b[0;34m\u001b[0m\u001b[0;34m\u001b[0m\u001b[0m\n\u001b[1;32m     99\u001b[0m \u001b[0;34m\u001b[0m\u001b[0m\n\u001b[0;32m--> 100\u001b[0;31m         self.repeat_explore = self.repeat_explore_mechanism.forward(\n\u001b[0m\u001b[1;32m    101\u001b[0m             \u001b[0mall_memory\u001b[0m\u001b[0;34m=\u001b[0m\u001b[0mall_memory\u001b[0m\u001b[0;34m,\u001b[0m \u001b[0mlast_memory\u001b[0m\u001b[0;34m=\u001b[0m\u001b[0mlast_memory\u001b[0m\u001b[0;34m\u001b[0m\u001b[0;34m\u001b[0m\u001b[0m\n\u001b[1;32m    102\u001b[0m         )\n",
            "\u001b[0;32m/usr/local/lib/python3.10/dist-packages/recbole/model/sequential_recommender/repeatnet.py\u001b[0m in \u001b[0;36mforward\u001b[0;34m(self, all_memory, last_memory)\u001b[0m\n\u001b[1;32m    197\u001b[0m         \u001b[0mall_memory_values\u001b[0m \u001b[0;34m=\u001b[0m \u001b[0mall_memory\u001b[0m\u001b[0;34m\u001b[0m\u001b[0;34m\u001b[0m\u001b[0m\n\u001b[1;32m    198\u001b[0m \u001b[0;34m\u001b[0m\u001b[0m\n\u001b[0;32m--> 199\u001b[0;31m         \u001b[0mall_memory\u001b[0m \u001b[0;34m=\u001b[0m \u001b[0mself\u001b[0m\u001b[0;34m.\u001b[0m\u001b[0mdropout\u001b[0m\u001b[0;34m(\u001b[0m\u001b[0mself\u001b[0m\u001b[0;34m.\u001b[0m\u001b[0mUre\u001b[0m\u001b[0;34m(\u001b[0m\u001b[0mall_memory\u001b[0m\u001b[0;34m)\u001b[0m\u001b[0;34m)\u001b[0m\u001b[0;34m\u001b[0m\u001b[0;34m\u001b[0m\u001b[0m\n\u001b[0m\u001b[1;32m    200\u001b[0m \u001b[0;34m\u001b[0m\u001b[0m\n\u001b[1;32m    201\u001b[0m         \u001b[0mlast_memory\u001b[0m \u001b[0;34m=\u001b[0m \u001b[0mself\u001b[0m\u001b[0;34m.\u001b[0m\u001b[0mdropout\u001b[0m\u001b[0;34m(\u001b[0m\u001b[0mself\u001b[0m\u001b[0;34m.\u001b[0m\u001b[0mWre\u001b[0m\u001b[0;34m(\u001b[0m\u001b[0mlast_memory\u001b[0m\u001b[0;34m)\u001b[0m\u001b[0;34m)\u001b[0m\u001b[0;34m\u001b[0m\u001b[0;34m\u001b[0m\u001b[0m\n",
            "\u001b[0;32m/usr/local/lib/python3.10/dist-packages/torch/nn/modules/module.py\u001b[0m in \u001b[0;36m_wrapped_call_impl\u001b[0;34m(self, *args, **kwargs)\u001b[0m\n\u001b[1;32m   1516\u001b[0m             \u001b[0;32mreturn\u001b[0m \u001b[0mself\u001b[0m\u001b[0;34m.\u001b[0m\u001b[0m_compiled_call_impl\u001b[0m\u001b[0;34m(\u001b[0m\u001b[0;34m*\u001b[0m\u001b[0margs\u001b[0m\u001b[0;34m,\u001b[0m \u001b[0;34m**\u001b[0m\u001b[0mkwargs\u001b[0m\u001b[0;34m)\u001b[0m  \u001b[0;31m# type: ignore[misc]\u001b[0m\u001b[0;34m\u001b[0m\u001b[0;34m\u001b[0m\u001b[0m\n\u001b[1;32m   1517\u001b[0m         \u001b[0;32melse\u001b[0m\u001b[0;34m:\u001b[0m\u001b[0;34m\u001b[0m\u001b[0;34m\u001b[0m\u001b[0m\n\u001b[0;32m-> 1518\u001b[0;31m             \u001b[0;32mreturn\u001b[0m \u001b[0mself\u001b[0m\u001b[0;34m.\u001b[0m\u001b[0m_call_impl\u001b[0m\u001b[0;34m(\u001b[0m\u001b[0;34m*\u001b[0m\u001b[0margs\u001b[0m\u001b[0;34m,\u001b[0m \u001b[0;34m**\u001b[0m\u001b[0mkwargs\u001b[0m\u001b[0;34m)\u001b[0m\u001b[0;34m\u001b[0m\u001b[0;34m\u001b[0m\u001b[0m\n\u001b[0m\u001b[1;32m   1519\u001b[0m \u001b[0;34m\u001b[0m\u001b[0m\n\u001b[1;32m   1520\u001b[0m     \u001b[0;32mdef\u001b[0m \u001b[0m_call_impl\u001b[0m\u001b[0;34m(\u001b[0m\u001b[0mself\u001b[0m\u001b[0;34m,\u001b[0m \u001b[0;34m*\u001b[0m\u001b[0margs\u001b[0m\u001b[0;34m,\u001b[0m \u001b[0;34m**\u001b[0m\u001b[0mkwargs\u001b[0m\u001b[0;34m)\u001b[0m\u001b[0;34m:\u001b[0m\u001b[0;34m\u001b[0m\u001b[0;34m\u001b[0m\u001b[0m\n",
            "\u001b[0;32m/usr/local/lib/python3.10/dist-packages/torch/nn/modules/module.py\u001b[0m in \u001b[0;36m_call_impl\u001b[0;34m(self, *args, **kwargs)\u001b[0m\n\u001b[1;32m   1525\u001b[0m                 \u001b[0;32mor\u001b[0m \u001b[0m_global_backward_pre_hooks\u001b[0m \u001b[0;32mor\u001b[0m \u001b[0m_global_backward_hooks\u001b[0m\u001b[0;34m\u001b[0m\u001b[0;34m\u001b[0m\u001b[0m\n\u001b[1;32m   1526\u001b[0m                 or _global_forward_hooks or _global_forward_pre_hooks):\n\u001b[0;32m-> 1527\u001b[0;31m             \u001b[0;32mreturn\u001b[0m \u001b[0mforward_call\u001b[0m\u001b[0;34m(\u001b[0m\u001b[0;34m*\u001b[0m\u001b[0margs\u001b[0m\u001b[0;34m,\u001b[0m \u001b[0;34m**\u001b[0m\u001b[0mkwargs\u001b[0m\u001b[0;34m)\u001b[0m\u001b[0;34m\u001b[0m\u001b[0;34m\u001b[0m\u001b[0m\n\u001b[0m\u001b[1;32m   1528\u001b[0m \u001b[0;34m\u001b[0m\u001b[0m\n\u001b[1;32m   1529\u001b[0m         \u001b[0;32mtry\u001b[0m\u001b[0;34m:\u001b[0m\u001b[0;34m\u001b[0m\u001b[0;34m\u001b[0m\u001b[0m\n",
            "\u001b[0;32m/usr/local/lib/python3.10/dist-packages/torch/nn/modules/dropout.py\u001b[0m in \u001b[0;36mforward\u001b[0;34m(self, input)\u001b[0m\n\u001b[1;32m     56\u001b[0m \u001b[0;34m\u001b[0m\u001b[0m\n\u001b[1;32m     57\u001b[0m     \u001b[0;32mdef\u001b[0m \u001b[0mforward\u001b[0m\u001b[0;34m(\u001b[0m\u001b[0mself\u001b[0m\u001b[0;34m,\u001b[0m \u001b[0minput\u001b[0m\u001b[0;34m:\u001b[0m \u001b[0mTensor\u001b[0m\u001b[0;34m)\u001b[0m \u001b[0;34m->\u001b[0m \u001b[0mTensor\u001b[0m\u001b[0;34m:\u001b[0m\u001b[0;34m\u001b[0m\u001b[0;34m\u001b[0m\u001b[0m\n\u001b[0;32m---> 58\u001b[0;31m         \u001b[0;32mreturn\u001b[0m \u001b[0mF\u001b[0m\u001b[0;34m.\u001b[0m\u001b[0mdropout\u001b[0m\u001b[0;34m(\u001b[0m\u001b[0minput\u001b[0m\u001b[0;34m,\u001b[0m \u001b[0mself\u001b[0m\u001b[0;34m.\u001b[0m\u001b[0mp\u001b[0m\u001b[0;34m,\u001b[0m \u001b[0mself\u001b[0m\u001b[0;34m.\u001b[0m\u001b[0mtraining\u001b[0m\u001b[0;34m,\u001b[0m \u001b[0mself\u001b[0m\u001b[0;34m.\u001b[0m\u001b[0minplace\u001b[0m\u001b[0;34m)\u001b[0m\u001b[0;34m\u001b[0m\u001b[0;34m\u001b[0m\u001b[0m\n\u001b[0m\u001b[1;32m     59\u001b[0m \u001b[0;34m\u001b[0m\u001b[0m\n\u001b[1;32m     60\u001b[0m \u001b[0;34m\u001b[0m\u001b[0m\n",
            "\u001b[0;32m/usr/local/lib/python3.10/dist-packages/torch/nn/functional.py\u001b[0m in \u001b[0;36mdropout\u001b[0;34m(input, p, training, inplace)\u001b[0m\n\u001b[1;32m   1264\u001b[0m     \u001b[0;32mif\u001b[0m \u001b[0mp\u001b[0m \u001b[0;34m<\u001b[0m \u001b[0;36m0.0\u001b[0m \u001b[0;32mor\u001b[0m \u001b[0mp\u001b[0m \u001b[0;34m>\u001b[0m \u001b[0;36m1.0\u001b[0m\u001b[0;34m:\u001b[0m\u001b[0;34m\u001b[0m\u001b[0;34m\u001b[0m\u001b[0m\n\u001b[1;32m   1265\u001b[0m         \u001b[0;32mraise\u001b[0m \u001b[0mValueError\u001b[0m\u001b[0;34m(\u001b[0m\u001b[0;34mf\"dropout probability has to be between 0 and 1, but got {p}\"\u001b[0m\u001b[0;34m)\u001b[0m\u001b[0;34m\u001b[0m\u001b[0;34m\u001b[0m\u001b[0m\n\u001b[0;32m-> 1266\u001b[0;31m     \u001b[0;32mreturn\u001b[0m \u001b[0m_VF\u001b[0m\u001b[0;34m.\u001b[0m\u001b[0mdropout_\u001b[0m\u001b[0;34m(\u001b[0m\u001b[0minput\u001b[0m\u001b[0;34m,\u001b[0m \u001b[0mp\u001b[0m\u001b[0;34m,\u001b[0m \u001b[0mtraining\u001b[0m\u001b[0;34m)\u001b[0m \u001b[0;32mif\u001b[0m \u001b[0minplace\u001b[0m \u001b[0;32melse\u001b[0m \u001b[0m_VF\u001b[0m\u001b[0;34m.\u001b[0m\u001b[0mdropout\u001b[0m\u001b[0;34m(\u001b[0m\u001b[0minput\u001b[0m\u001b[0;34m,\u001b[0m \u001b[0mp\u001b[0m\u001b[0;34m,\u001b[0m \u001b[0mtraining\u001b[0m\u001b[0;34m)\u001b[0m\u001b[0;34m\u001b[0m\u001b[0;34m\u001b[0m\u001b[0m\n\u001b[0m\u001b[1;32m   1267\u001b[0m \u001b[0;34m\u001b[0m\u001b[0m\n\u001b[1;32m   1268\u001b[0m \u001b[0;34m\u001b[0m\u001b[0m\n",
            "\u001b[0;32m/usr/local/lib/python3.10/dist-packages/torch/fx/traceback.py\u001b[0m in \u001b[0;36mformat_stack\u001b[0;34m()\u001b[0m\n\u001b[1;32m     66\u001b[0m     \u001b[0;32melse\u001b[0m\u001b[0;34m:\u001b[0m\u001b[0;34m\u001b[0m\u001b[0;34m\u001b[0m\u001b[0m\n\u001b[1;32m     67\u001b[0m         \u001b[0;31m# fallback to traceback.format_stack()\u001b[0m\u001b[0;34m\u001b[0m\u001b[0;34m\u001b[0m\u001b[0m\n\u001b[0;32m---> 68\u001b[0;31m         \u001b[0;32mreturn\u001b[0m \u001b[0mtraceback\u001b[0m\u001b[0;34m.\u001b[0m\u001b[0mformat_list\u001b[0m\u001b[0;34m(\u001b[0m\u001b[0mtraceback\u001b[0m\u001b[0;34m.\u001b[0m\u001b[0mextract_stack\u001b[0m\u001b[0;34m(\u001b[0m\u001b[0;34m)\u001b[0m\u001b[0;34m[\u001b[0m\u001b[0;34m:\u001b[0m\u001b[0;34m-\u001b[0m\u001b[0;36m1\u001b[0m\u001b[0;34m]\u001b[0m\u001b[0;34m)\u001b[0m\u001b[0;34m\u001b[0m\u001b[0;34m\u001b[0m\u001b[0m\n\u001b[0m\u001b[1;32m     69\u001b[0m \u001b[0;34m\u001b[0m\u001b[0m\n\u001b[1;32m     70\u001b[0m \u001b[0;34m\u001b[0m\u001b[0m\n",
            "\u001b[0;32m/usr/lib/python3.10/traceback.py\u001b[0m in \u001b[0;36mformat_list\u001b[0;34m(extracted_list)\u001b[0m\n\u001b[1;32m     37\u001b[0m     \u001b[0mwhose\u001b[0m \u001b[0msource\u001b[0m \u001b[0mtext\u001b[0m \u001b[0mline\u001b[0m \u001b[0;32mis\u001b[0m \u001b[0;32mnot\u001b[0m \u001b[0;32mNone\u001b[0m\u001b[0;34m.\u001b[0m\u001b[0;34m\u001b[0m\u001b[0;34m\u001b[0m\u001b[0m\n\u001b[1;32m     38\u001b[0m     \"\"\"\n\u001b[0;32m---> 39\u001b[0;31m     \u001b[0;32mreturn\u001b[0m \u001b[0mStackSummary\u001b[0m\u001b[0;34m.\u001b[0m\u001b[0mfrom_list\u001b[0m\u001b[0;34m(\u001b[0m\u001b[0mextracted_list\u001b[0m\u001b[0;34m)\u001b[0m\u001b[0;34m.\u001b[0m\u001b[0mformat\u001b[0m\u001b[0;34m(\u001b[0m\u001b[0;34m)\u001b[0m\u001b[0;34m\u001b[0m\u001b[0;34m\u001b[0m\u001b[0m\n\u001b[0m\u001b[1;32m     40\u001b[0m \u001b[0;34m\u001b[0m\u001b[0m\n\u001b[1;32m     41\u001b[0m \u001b[0;31m#\u001b[0m\u001b[0;34m\u001b[0m\u001b[0;34m\u001b[0m\u001b[0m\n",
            "\u001b[0;32m/usr/lib/python3.10/traceback.py\u001b[0m in \u001b[0;36mformat\u001b[0;34m(self)\u001b[0m\n\u001b[1;32m    438\u001b[0m                 \u001b[0;32mcontinue\u001b[0m\u001b[0;34m\u001b[0m\u001b[0;34m\u001b[0m\u001b[0m\n\u001b[1;32m    439\u001b[0m             \u001b[0mrow\u001b[0m \u001b[0;34m=\u001b[0m \u001b[0;34m[\u001b[0m\u001b[0;34m]\u001b[0m\u001b[0;34m\u001b[0m\u001b[0;34m\u001b[0m\u001b[0m\n\u001b[0;32m--> 440\u001b[0;31m             row.append('  File \"{}\", line {}, in {}\\n'.format(\n\u001b[0m\u001b[1;32m    441\u001b[0m                 frame.filename, frame.lineno, frame.name))\n\u001b[1;32m    442\u001b[0m             \u001b[0;32mif\u001b[0m \u001b[0mframe\u001b[0m\u001b[0;34m.\u001b[0m\u001b[0mline\u001b[0m\u001b[0;34m:\u001b[0m\u001b[0;34m\u001b[0m\u001b[0;34m\u001b[0m\u001b[0m\n",
            "\u001b[0;31mKeyboardInterrupt\u001b[0m: "
          ]
        }
      ]
    },
    {
      "cell_type": "markdown",
      "source": [
        "# Kyboard stoped cause it was taking too much time"
      ],
      "metadata": {
        "id": "u-Ft7wXmFRyA"
      }
    },
    {
      "cell_type": "markdown",
      "source": [
        "Choosed MultiVAE"
      ],
      "metadata": {
        "id": "4BZMoU_fFeEa"
      }
    },
    {
      "cell_type": "code",
      "source": [
        "result = run_recbole(model='MultiVAE', dataset = 'recbox_data',config_dict = parameter_dict )"
      ],
      "metadata": {
        "colab": {
          "base_uri": "https://localhost:8080/"
        },
        "id": "ReErRmpr6jEo",
        "outputId": "3da2b78f-e6d1-4f55-fbf7-37cfc87491da"
      },
      "execution_count": 22,
      "outputs": [
        {
          "output_type": "stream",
          "name": "stderr",
          "text": [
            "WARNING:root:command line args [-f /root/.local/share/jupyter/runtime/kernel-4ee6d0af-7037-4200-8ee9-d73632a60040.json] will not be used in RecBole\n",
            "command line args [-f /root/.local/share/jupyter/runtime/kernel-4ee6d0af-7037-4200-8ee9-d73632a60040.json] will not be used in RecBole\n",
            "command line args [-f /root/.local/share/jupyter/runtime/kernel-4ee6d0af-7037-4200-8ee9-d73632a60040.json] will not be used in RecBole\n",
            "WARNING:root:Max value of user's history interaction records has reached 20.9471766848816% of the total.\n",
            "Max value of user's history interaction records has reached 20.9471766848816% of the total.\n",
            "Max value of user's history interaction records has reached 20.9471766848816% of the total.\n",
            "Train     0: 100%|████████████████████████████████████████████████████| 7/7 [00:07<00:00,  1.13s/it]\n",
            "Train     1: 100%|████████████████████████████████████████████████████| 7/7 [00:05<00:00,  1.29it/s]\n",
            "Train     2: 100%|████████████████████████████████████████████████████| 7/7 [00:06<00:00,  1.15it/s]\n",
            "Train     3: 100%|████████████████████████████████████████████████████| 7/7 [00:07<00:00,  1.06s/it]\n",
            "Train     4: 100%|████████████████████████████████████████████████████| 7/7 [00:05<00:00,  1.29it/s]\n",
            "Train     5: 100%|████████████████████████████████████████████████████| 7/7 [00:07<00:00,  1.10s/it]\n",
            "Train     6: 100%|████████████████████████████████████████████████████| 7/7 [00:05<00:00,  1.25it/s]\n",
            "Train     7: 100%|████████████████████████████████████████████████████| 7/7 [00:05<00:00,  1.20it/s]\n",
            "Train     8: 100%|████████████████████████████████████████████████████| 7/7 [00:07<00:00,  1.05s/it]\n",
            "Train     9: 100%|████████████████████████████████████████████████████| 7/7 [00:05<00:00,  1.30it/s]\n",
            "Evaluate   : 100%|███████████████████████████████████████████| 13354/13354 [01:00<00:00, 219.45it/s]\n"
          ]
        }
      ]
    },
    {
      "cell_type": "code",
      "source": [
        "result"
      ],
      "metadata": {
        "colab": {
          "base_uri": "https://localhost:8080/"
        },
        "id": "9Zkks3Sc6yNR",
        "outputId": "40e3e3c6-805d-4040-c7dc-84dc767b664b"
      },
      "execution_count": 33,
      "outputs": [
        {
          "output_type": "execute_result",
          "data": {
            "text/plain": [
              "{'best_valid_score': -inf,\n",
              " 'valid_score_bigger': True,\n",
              " 'best_valid_result': None,\n",
              " 'test_result': OrderedDict([('recall@10', 0.084),\n",
              "              ('mrr@10', 0.1695),\n",
              "              ('ndcg@10', 0.0825),\n",
              "              ('hit@10', 0.3503),\n",
              "              ('precision@10', 0.0467)])}"
            ]
          },
          "metadata": {},
          "execution_count": 33
        }
      ]
    },
    {
      "cell_type": "code",
      "source": [
        "# After trained model 'model' and configuration 'config'\n",
        "# Save the model state dictionary and other necessary information\n",
        "import torch\n",
        "from recbole.model.general_recommender.multivae import MultiVAE\n",
        "model = MultiVAE(config, dataset)\n",
        "torch.save({\n",
        "    'state_dict': model.state_dict(),\n",
        "    'config': config\n",
        "}, 'recbole.pth')"
      ],
      "metadata": {
        "colab": {
          "base_uri": "https://localhost:8080/"
        },
        "id": "o8hAzeeO-Z7z",
        "outputId": "7b42a8e3-0db3-4c49-89ff-033453a83589"
      },
      "execution_count": 35,
      "outputs": [
        {
          "output_type": "stream",
          "name": "stderr",
          "text": [
            "WARNING:root:Max value of user's history interaction records has reached 23.254401942926535% of the total.\n",
            "Max value of user's history interaction records has reached 23.254401942926535% of the total.\n",
            "Max value of user's history interaction records has reached 23.254401942926535% of the total.\n"
          ]
        }
      ]
    },
    {
      "cell_type": "code",
      "source": [
        "# Load model and optimizer state dictionaries\n",
        "checkpoint = torch.load('recbole.pth')\n",
        "model.load_state_dict(checkpoint['state_dict'])\n"
      ],
      "metadata": {
        "colab": {
          "base_uri": "https://localhost:8080/"
        },
        "id": "zVVQZIT3BBnd",
        "outputId": "b90e8079-c36a-4a01-b405-0568135fdf1a"
      },
      "execution_count": 41,
      "outputs": [
        {
          "output_type": "execute_result",
          "data": {
            "text/plain": [
              "<All keys matched successfully>"
            ]
          },
          "metadata": {},
          "execution_count": 41
        }
      ]
    },
    {
      "cell_type": "code",
      "source": [
        "import numpy as np\n",
        "\n",
        "def recommend_items_to_user(external_user_id, dataset, model):\n",
        "    if external_user_id in dataset.field2token_id[dataset.uid_field] and external_user_id != \"[PAD]\":\n",
        "        # Map external user ID to internal user index\n",
        "        internal_user_index = dataset.field2token_id[dataset.uid_field][external_user_id]\n",
        "\n",
        "        # Extract user metadata features and interaction vector\n",
        "        user_metadata_features = dataset.users_ohe_df.drop([\"user_id\"], axis=1).iloc[internal_user_index]\n",
        "        user_interaction_vector = dataset.interactions_vec[internal_user_index]\n",
        "\n",
        "        # Predict user vector using the trained user-to-vector model\n",
        "        user_vector = dataset.u2v.predict(\n",
        "            [np.array(user_metadata_features).reshape(1, -1), np.array(user_interaction_vector).reshape(1, -1)],\n",
        "            verbose=False,\n",
        "        )\n",
        "\n",
        "        # Instead of calculating distance for all items, just select a random subset\n",
        "        sampled_item_indices = np.random.choice(dataset.item_embeddings.shape[0], size=100, replace=False)\n",
        "        sampled_item_embeddings = dataset.item_embeddings[sampled_item_indices, :]\n",
        "\n",
        "        # Calculate distances between the user vector and sampled item embeddings\n",
        "        distances = np.linalg.norm(user_vector - sampled_item_embeddings, axis=1)\n",
        "\n",
        "        # Get the indices of the top 10 items from the sampled set\n",
        "        topn_item_indices_sampled = np.argsort(distances)[:10]\n",
        "\n",
        "        # Map internal item indices to item_ids\n",
        "        topn_item_ids = [dataset.iid_to_item_id[iid] for iid in topn_item_indices_sampled]\n",
        "\n",
        "        return topn_item_ids\n",
        "\n",
        "    return []\n"
      ],
      "metadata": {
        "id": "c5jqym3BBwwG"
      },
      "execution_count": 52,
      "outputs": []
    },
    {
      "cell_type": "code",
      "source": [
        "recos = {}\n",
        "users = dataset.field2token_id[dataset.uid_field]\n",
        "for user_id in users:\n",
        "    recommended_items = recommend_items_to_user(user_id, dataset, model)\n",
        "    if recommended_items:\n",
        "        recos[user_id] = recommended_items"
      ],
      "metadata": {
        "id": "b22qkfJ_Cbri"
      },
      "execution_count": 57,
      "outputs": []
    }
  ]
}