{
  "nbformat": 4,
  "nbformat_minor": 0,
  "metadata": {
    "colab": {
      "provenance": [],
      "toc_visible": true
    },
    "kernelspec": {
      "name": "python3",
      "display_name": "Python 3"
    },
    "language_info": {
      "name": "python"
    },
    "widgets": {
      "application/vnd.jupyter.widget-state+json": {
        "2a139b500ca443aabb10ae095044d0ea": {
          "model_module": "@jupyter-widgets/controls",
          "model_name": "HBoxModel",
          "model_module_version": "1.5.0",
          "state": {
            "_dom_classes": [],
            "_model_module": "@jupyter-widgets/controls",
            "_model_module_version": "1.5.0",
            "_model_name": "HBoxModel",
            "_view_count": null,
            "_view_module": "@jupyter-widgets/controls",
            "_view_module_version": "1.5.0",
            "_view_name": "HBoxView",
            "box_style": "",
            "children": [
              "IPY_MODEL_d7f0941aff00461a9d5a15c69c4a18a6",
              "IPY_MODEL_e98c04bfc30d487baea5adeb63f768db",
              "IPY_MODEL_ec8773d0907e4715b7d72a8e06a85bb4"
            ],
            "layout": "IPY_MODEL_e5fd951980d64a19819a0f07eef2d492"
          }
        },
        "d7f0941aff00461a9d5a15c69c4a18a6": {
          "model_module": "@jupyter-widgets/controls",
          "model_name": "HTMLModel",
          "model_module_version": "1.5.0",
          "state": {
            "_dom_classes": [],
            "_model_module": "@jupyter-widgets/controls",
            "_model_module_version": "1.5.0",
            "_model_name": "HTMLModel",
            "_view_count": null,
            "_view_module": "@jupyter-widgets/controls",
            "_view_module_version": "1.5.0",
            "_view_name": "HTMLView",
            "description": "",
            "description_tooltip": null,
            "layout": "IPY_MODEL_6d44903f49c5486ea94d33d06815071d",
            "placeholder": "​",
            "style": "IPY_MODEL_8bdf112cfbff4d809788cecf12b5a1c2",
            "value": "kion dataset download: 100%"
          }
        },
        "e98c04bfc30d487baea5adeb63f768db": {
          "model_module": "@jupyter-widgets/controls",
          "model_name": "FloatProgressModel",
          "model_module_version": "1.5.0",
          "state": {
            "_dom_classes": [],
            "_model_module": "@jupyter-widgets/controls",
            "_model_module_version": "1.5.0",
            "_model_name": "FloatProgressModel",
            "_view_count": null,
            "_view_module": "@jupyter-widgets/controls",
            "_view_module_version": "1.5.0",
            "_view_name": "ProgressView",
            "bar_style": "",
            "description": "",
            "description_tooltip": null,
            "layout": "IPY_MODEL_1d974f1b571d44fd9054bd39d43036a3",
            "max": 78795295,
            "min": 0,
            "orientation": "horizontal",
            "style": "IPY_MODEL_cb702a761a814d91821bb5e45b1329ab",
            "value": 78795295
          }
        },
        "ec8773d0907e4715b7d72a8e06a85bb4": {
          "model_module": "@jupyter-widgets/controls",
          "model_name": "HTMLModel",
          "model_module_version": "1.5.0",
          "state": {
            "_dom_classes": [],
            "_model_module": "@jupyter-widgets/controls",
            "_model_module_version": "1.5.0",
            "_model_name": "HTMLModel",
            "_view_count": null,
            "_view_module": "@jupyter-widgets/controls",
            "_view_module_version": "1.5.0",
            "_view_name": "HTMLView",
            "description": "",
            "description_tooltip": null,
            "layout": "IPY_MODEL_22a93d95ba6d4c03831a3e3f1768c7eb",
            "placeholder": "​",
            "style": "IPY_MODEL_e801f6c4111646b9b18bfb07511443c8",
            "value": " 78.8M/78.8M [00:13&lt;00:00, 180MiB/s]"
          }
        },
        "e5fd951980d64a19819a0f07eef2d492": {
          "model_module": "@jupyter-widgets/base",
          "model_name": "LayoutModel",
          "model_module_version": "1.2.0",
          "state": {
            "_model_module": "@jupyter-widgets/base",
            "_model_module_version": "1.2.0",
            "_model_name": "LayoutModel",
            "_view_count": null,
            "_view_module": "@jupyter-widgets/base",
            "_view_module_version": "1.2.0",
            "_view_name": "LayoutView",
            "align_content": null,
            "align_items": null,
            "align_self": null,
            "border": null,
            "bottom": null,
            "display": null,
            "flex": null,
            "flex_flow": null,
            "grid_area": null,
            "grid_auto_columns": null,
            "grid_auto_flow": null,
            "grid_auto_rows": null,
            "grid_column": null,
            "grid_gap": null,
            "grid_row": null,
            "grid_template_areas": null,
            "grid_template_columns": null,
            "grid_template_rows": null,
            "height": null,
            "justify_content": null,
            "justify_items": null,
            "left": null,
            "margin": null,
            "max_height": null,
            "max_width": null,
            "min_height": null,
            "min_width": null,
            "object_fit": null,
            "object_position": null,
            "order": null,
            "overflow": null,
            "overflow_x": null,
            "overflow_y": null,
            "padding": null,
            "right": null,
            "top": null,
            "visibility": null,
            "width": null
          }
        },
        "6d44903f49c5486ea94d33d06815071d": {
          "model_module": "@jupyter-widgets/base",
          "model_name": "LayoutModel",
          "model_module_version": "1.2.0",
          "state": {
            "_model_module": "@jupyter-widgets/base",
            "_model_module_version": "1.2.0",
            "_model_name": "LayoutModel",
            "_view_count": null,
            "_view_module": "@jupyter-widgets/base",
            "_view_module_version": "1.2.0",
            "_view_name": "LayoutView",
            "align_content": null,
            "align_items": null,
            "align_self": null,
            "border": null,
            "bottom": null,
            "display": null,
            "flex": null,
            "flex_flow": null,
            "grid_area": null,
            "grid_auto_columns": null,
            "grid_auto_flow": null,
            "grid_auto_rows": null,
            "grid_column": null,
            "grid_gap": null,
            "grid_row": null,
            "grid_template_areas": null,
            "grid_template_columns": null,
            "grid_template_rows": null,
            "height": null,
            "justify_content": null,
            "justify_items": null,
            "left": null,
            "margin": null,
            "max_height": null,
            "max_width": null,
            "min_height": null,
            "min_width": null,
            "object_fit": null,
            "object_position": null,
            "order": null,
            "overflow": null,
            "overflow_x": null,
            "overflow_y": null,
            "padding": null,
            "right": null,
            "top": null,
            "visibility": null,
            "width": null
          }
        },
        "8bdf112cfbff4d809788cecf12b5a1c2": {
          "model_module": "@jupyter-widgets/controls",
          "model_name": "DescriptionStyleModel",
          "model_module_version": "1.5.0",
          "state": {
            "_model_module": "@jupyter-widgets/controls",
            "_model_module_version": "1.5.0",
            "_model_name": "DescriptionStyleModel",
            "_view_count": null,
            "_view_module": "@jupyter-widgets/base",
            "_view_module_version": "1.2.0",
            "_view_name": "StyleView",
            "description_width": ""
          }
        },
        "1d974f1b571d44fd9054bd39d43036a3": {
          "model_module": "@jupyter-widgets/base",
          "model_name": "LayoutModel",
          "model_module_version": "1.2.0",
          "state": {
            "_model_module": "@jupyter-widgets/base",
            "_model_module_version": "1.2.0",
            "_model_name": "LayoutModel",
            "_view_count": null,
            "_view_module": "@jupyter-widgets/base",
            "_view_module_version": "1.2.0",
            "_view_name": "LayoutView",
            "align_content": null,
            "align_items": null,
            "align_self": null,
            "border": null,
            "bottom": null,
            "display": null,
            "flex": null,
            "flex_flow": null,
            "grid_area": null,
            "grid_auto_columns": null,
            "grid_auto_flow": null,
            "grid_auto_rows": null,
            "grid_column": null,
            "grid_gap": null,
            "grid_row": null,
            "grid_template_areas": null,
            "grid_template_columns": null,
            "grid_template_rows": null,
            "height": null,
            "justify_content": null,
            "justify_items": null,
            "left": null,
            "margin": null,
            "max_height": null,
            "max_width": null,
            "min_height": null,
            "min_width": null,
            "object_fit": null,
            "object_position": null,
            "order": null,
            "overflow": null,
            "overflow_x": null,
            "overflow_y": null,
            "padding": null,
            "right": null,
            "top": null,
            "visibility": null,
            "width": null
          }
        },
        "cb702a761a814d91821bb5e45b1329ab": {
          "model_module": "@jupyter-widgets/controls",
          "model_name": "ProgressStyleModel",
          "model_module_version": "1.5.0",
          "state": {
            "_model_module": "@jupyter-widgets/controls",
            "_model_module_version": "1.5.0",
            "_model_name": "ProgressStyleModel",
            "_view_count": null,
            "_view_module": "@jupyter-widgets/base",
            "_view_module_version": "1.2.0",
            "_view_name": "StyleView",
            "bar_color": null,
            "description_width": ""
          }
        },
        "22a93d95ba6d4c03831a3e3f1768c7eb": {
          "model_module": "@jupyter-widgets/base",
          "model_name": "LayoutModel",
          "model_module_version": "1.2.0",
          "state": {
            "_model_module": "@jupyter-widgets/base",
            "_model_module_version": "1.2.0",
            "_model_name": "LayoutModel",
            "_view_count": null,
            "_view_module": "@jupyter-widgets/base",
            "_view_module_version": "1.2.0",
            "_view_name": "LayoutView",
            "align_content": null,
            "align_items": null,
            "align_self": null,
            "border": null,
            "bottom": null,
            "display": null,
            "flex": null,
            "flex_flow": null,
            "grid_area": null,
            "grid_auto_columns": null,
            "grid_auto_flow": null,
            "grid_auto_rows": null,
            "grid_column": null,
            "grid_gap": null,
            "grid_row": null,
            "grid_template_areas": null,
            "grid_template_columns": null,
            "grid_template_rows": null,
            "height": null,
            "justify_content": null,
            "justify_items": null,
            "left": null,
            "margin": null,
            "max_height": null,
            "max_width": null,
            "min_height": null,
            "min_width": null,
            "object_fit": null,
            "object_position": null,
            "order": null,
            "overflow": null,
            "overflow_x": null,
            "overflow_y": null,
            "padding": null,
            "right": null,
            "top": null,
            "visibility": null,
            "width": null
          }
        },
        "e801f6c4111646b9b18bfb07511443c8": {
          "model_module": "@jupyter-widgets/controls",
          "model_name": "DescriptionStyleModel",
          "model_module_version": "1.5.0",
          "state": {
            "_model_module": "@jupyter-widgets/controls",
            "_model_module_version": "1.5.0",
            "_model_name": "DescriptionStyleModel",
            "_view_count": null,
            "_view_module": "@jupyter-widgets/base",
            "_view_module_version": "1.2.0",
            "_view_name": "StyleView",
            "description_width": ""
          }
        }
      }
    }
  },
  "cells": [
    {
      "cell_type": "code",
      "execution_count": 2,
      "metadata": {
        "colab": {
          "base_uri": "https://localhost:8080/",
          "height": 36
        },
        "id": "9TWUl61Dm7uA",
        "outputId": "bcfafe2c-3bf4-4329-d342-e25f91792b6e"
      },
      "outputs": [
        {
          "output_type": "execute_result",
          "data": {
            "text/plain": [
              "'/content'"
            ],
            "application/vnd.google.colaboratory.intrinsic+json": {
              "type": "string"
            }
          },
          "metadata": {},
          "execution_count": 2
        }
      ],
      "source": [
        "%pwd\n"
      ]
    },
    {
      "cell_type": "code",
      "source": [
        "!pip install  rectools implicit requests tqdm optuna lightfm rectools[lightfm] annoy"
      ],
      "metadata": {
        "id": "Eq63rpV8pf5D"
      },
      "execution_count": 72,
      "outputs": []
    },
    {
      "cell_type": "markdown",
      "source": [
        "# Importing libraries"
      ],
      "metadata": {
        "id": "GX7kcXz2yy3Y"
      }
    },
    {
      "cell_type": "code",
      "source": [
        "from pprint import pprint\n",
        "\n",
        "import numpy as np\n",
        "import pandas as pd\n",
        "\n",
        "import requests\n",
        "from tqdm.auto import tqdm\n",
        "from rectools import Columns\n",
        "from rectools.dataset import Dataset,Interactions\n",
        "from rectools.models import ImplicitItemKNNWrapperModel\n",
        "\n",
        "import optuna\n",
        "\n",
        "from lightfm.cross_validation import random_train_test_split\n",
        "from implicit.als import AlternatingLeastSquares\n",
        "\n",
        "from rectools.metrics import Precision, Recall, MAP, calc_metrics\n",
        "from rectools.models import PopularModel, RandomModel, ImplicitALSWrapperModel\n",
        "from rectools import Columns\n",
        "from rectools.dataset import Dataset\n",
        "from rectools.models import ImplicitALSWrapperModel, LightFMWrapperModel\n",
        "\n",
        "import matplotlib.pyplot as plt\n",
        "import seaborn as sns\n",
        "\n",
        "import matplotlib.pyplot as plt\n",
        "from pathlib import Path\n",
        "import typing as tp\n",
        "from tqdm import tqdm\n",
        "\n",
        "from lightfm.cross_validation import random_train_test_split\n",
        "from implicit.als import AlternatingLeastSquares\n",
        "from lightfm import LightFM\n",
        "\n",
        "from implicit.bpr import BayesianPersonalizedRanking\n",
        "\n",
        "from implicit.lmf import LogisticMatrixFactorization\n",
        "\n",
        "from annoy import AnnoyIndex"
      ],
      "metadata": {
        "id": "OfgYmpsspnFu"
      },
      "execution_count": 46,
      "outputs": []
    },
    {
      "cell_type": "markdown",
      "source": [
        "# Getting the data"
      ],
      "metadata": {
        "id": "paJiTTWSy3Qa"
      }
    },
    {
      "cell_type": "code",
      "source": [
        "url = 'https://github.com/irsafilo/KION_DATASET/raw/f69775be31fa5779907cf0a92ddedb70037fb5ae/data_original.zip'"
      ],
      "metadata": {
        "id": "YYa19QSDp1xU"
      },
      "execution_count": 5,
      "outputs": []
    },
    {
      "cell_type": "code",
      "source": [
        "req = requests.get(url, stream=True)\n",
        "\n",
        "with open('kion.zip', 'wb') as fd:\n",
        "    total_size_in_bytes = int(req.headers.get('Content-Length', 0))\n",
        "    progress_bar = tqdm(desc='kion dataset download', total=total_size_in_bytes, unit='iB', unit_scale=True)\n",
        "    for chunk in req.iter_content(chunk_size=2 ** 20):\n",
        "        progress_bar.update(len(chunk))\n",
        "        fd.write(chunk)"
      ],
      "metadata": {
        "colab": {
          "base_uri": "https://localhost:8080/",
          "height": 49,
          "referenced_widgets": [
            "2a139b500ca443aabb10ae095044d0ea",
            "d7f0941aff00461a9d5a15c69c4a18a6",
            "e98c04bfc30d487baea5adeb63f768db",
            "ec8773d0907e4715b7d72a8e06a85bb4",
            "e5fd951980d64a19819a0f07eef2d492",
            "6d44903f49c5486ea94d33d06815071d",
            "8bdf112cfbff4d809788cecf12b5a1c2",
            "1d974f1b571d44fd9054bd39d43036a3",
            "cb702a761a814d91821bb5e45b1329ab",
            "22a93d95ba6d4c03831a3e3f1768c7eb",
            "e801f6c4111646b9b18bfb07511443c8"
          ]
        },
        "id": "dB_oLGCLp6U4",
        "outputId": "c320e423-2497-4400-873f-1066edd92259"
      },
      "execution_count": null,
      "outputs": [
        {
          "output_type": "display_data",
          "data": {
            "text/plain": [
              "kion dataset download:   0%|          | 0.00/78.8M [00:00<?, ?iB/s]"
            ],
            "application/vnd.jupyter.widget-view+json": {
              "version_major": 2,
              "version_minor": 0,
              "model_id": "2a139b500ca443aabb10ae095044d0ea"
            }
          },
          "metadata": {}
        }
      ]
    },
    {
      "cell_type": "code",
      "source": [
        "import zipfile as zf\n",
        "\n",
        "files = zf.ZipFile('kion.zip','r')\n",
        "files.extractall()\n",
        "files.close()"
      ],
      "metadata": {
        "id": "T4uu6DeSqK8X"
      },
      "execution_count": null,
      "outputs": []
    },
    {
      "cell_type": "code",
      "source": [
        "interactions = pd.read_csv('data_original/interactions.csv')\n",
        "users = pd.read_csv('data_original/users.csv')\n",
        "items = pd.read_csv('data_original/items.csv')"
      ],
      "metadata": {
        "id": "_2jbPUo3qMYL"
      },
      "execution_count": 6,
      "outputs": []
    },
    {
      "cell_type": "markdown",
      "source": [
        "# Some preprossesing"
      ],
      "metadata": {
        "id": "10XikP60zE1h"
      }
    },
    {
      "cell_type": "code",
      "source": [
        "interactions = pd.read_csv('data_original/interactions.csv', parse_dates=[\"last_watch_dt\"])\n",
        "\n",
        "interactions.rename(\n",
        "    columns={\n",
        "        'last_watch_dt': Columns.Datetime,\n",
        "        'total_dur': Columns.Weight\n",
        "    },\n",
        "    inplace=True)\n",
        "interactions.head()\n"
      ],
      "metadata": {
        "colab": {
          "base_uri": "https://localhost:8080/",
          "height": 206
        },
        "id": "k_LfxkBYqyQu",
        "outputId": "4724dbdb-4702-4912-d016-d9b49244dbef"
      },
      "execution_count": 7,
      "outputs": [
        {
          "output_type": "execute_result",
          "data": {
            "text/plain": [
              "   user_id  item_id   datetime  weight  watched_pct\n",
              "0   176549     9506 2021-05-11    4250         72.0\n",
              "1   699317     1659 2021-05-29    8317        100.0\n",
              "2   656683     7107 2021-05-09      10          0.0\n",
              "3   864613     7638 2021-07-05   14483        100.0\n",
              "4   964868     9506 2021-04-30    6725        100.0"
            ],
            "text/html": [
              "\n",
              "  <div id=\"df-33b180cf-ec9b-4a50-a858-f7fe25510276\" class=\"colab-df-container\">\n",
              "    <div>\n",
              "<style scoped>\n",
              "    .dataframe tbody tr th:only-of-type {\n",
              "        vertical-align: middle;\n",
              "    }\n",
              "\n",
              "    .dataframe tbody tr th {\n",
              "        vertical-align: top;\n",
              "    }\n",
              "\n",
              "    .dataframe thead th {\n",
              "        text-align: right;\n",
              "    }\n",
              "</style>\n",
              "<table border=\"1\" class=\"dataframe\">\n",
              "  <thead>\n",
              "    <tr style=\"text-align: right;\">\n",
              "      <th></th>\n",
              "      <th>user_id</th>\n",
              "      <th>item_id</th>\n",
              "      <th>datetime</th>\n",
              "      <th>weight</th>\n",
              "      <th>watched_pct</th>\n",
              "    </tr>\n",
              "  </thead>\n",
              "  <tbody>\n",
              "    <tr>\n",
              "      <th>0</th>\n",
              "      <td>176549</td>\n",
              "      <td>9506</td>\n",
              "      <td>2021-05-11</td>\n",
              "      <td>4250</td>\n",
              "      <td>72.0</td>\n",
              "    </tr>\n",
              "    <tr>\n",
              "      <th>1</th>\n",
              "      <td>699317</td>\n",
              "      <td>1659</td>\n",
              "      <td>2021-05-29</td>\n",
              "      <td>8317</td>\n",
              "      <td>100.0</td>\n",
              "    </tr>\n",
              "    <tr>\n",
              "      <th>2</th>\n",
              "      <td>656683</td>\n",
              "      <td>7107</td>\n",
              "      <td>2021-05-09</td>\n",
              "      <td>10</td>\n",
              "      <td>0.0</td>\n",
              "    </tr>\n",
              "    <tr>\n",
              "      <th>3</th>\n",
              "      <td>864613</td>\n",
              "      <td>7638</td>\n",
              "      <td>2021-07-05</td>\n",
              "      <td>14483</td>\n",
              "      <td>100.0</td>\n",
              "    </tr>\n",
              "    <tr>\n",
              "      <th>4</th>\n",
              "      <td>964868</td>\n",
              "      <td>9506</td>\n",
              "      <td>2021-04-30</td>\n",
              "      <td>6725</td>\n",
              "      <td>100.0</td>\n",
              "    </tr>\n",
              "  </tbody>\n",
              "</table>\n",
              "</div>\n",
              "    <div class=\"colab-df-buttons\">\n",
              "\n",
              "  <div class=\"colab-df-container\">\n",
              "    <button class=\"colab-df-convert\" onclick=\"convertToInteractive('df-33b180cf-ec9b-4a50-a858-f7fe25510276')\"\n",
              "            title=\"Convert this dataframe to an interactive table.\"\n",
              "            style=\"display:none;\">\n",
              "\n",
              "  <svg xmlns=\"http://www.w3.org/2000/svg\" height=\"24px\" viewBox=\"0 -960 960 960\">\n",
              "    <path d=\"M120-120v-720h720v720H120Zm60-500h600v-160H180v160Zm220 220h160v-160H400v160Zm0 220h160v-160H400v160ZM180-400h160v-160H180v160Zm440 0h160v-160H620v160ZM180-180h160v-160H180v160Zm440 0h160v-160H620v160Z\"/>\n",
              "  </svg>\n",
              "    </button>\n",
              "\n",
              "  <style>\n",
              "    .colab-df-container {\n",
              "      display:flex;\n",
              "      gap: 12px;\n",
              "    }\n",
              "\n",
              "    .colab-df-convert {\n",
              "      background-color: #E8F0FE;\n",
              "      border: none;\n",
              "      border-radius: 50%;\n",
              "      cursor: pointer;\n",
              "      display: none;\n",
              "      fill: #1967D2;\n",
              "      height: 32px;\n",
              "      padding: 0 0 0 0;\n",
              "      width: 32px;\n",
              "    }\n",
              "\n",
              "    .colab-df-convert:hover {\n",
              "      background-color: #E2EBFA;\n",
              "      box-shadow: 0px 1px 2px rgba(60, 64, 67, 0.3), 0px 1px 3px 1px rgba(60, 64, 67, 0.15);\n",
              "      fill: #174EA6;\n",
              "    }\n",
              "\n",
              "    .colab-df-buttons div {\n",
              "      margin-bottom: 4px;\n",
              "    }\n",
              "\n",
              "    [theme=dark] .colab-df-convert {\n",
              "      background-color: #3B4455;\n",
              "      fill: #D2E3FC;\n",
              "    }\n",
              "\n",
              "    [theme=dark] .colab-df-convert:hover {\n",
              "      background-color: #434B5C;\n",
              "      box-shadow: 0px 1px 3px 1px rgba(0, 0, 0, 0.15);\n",
              "      filter: drop-shadow(0px 1px 2px rgba(0, 0, 0, 0.3));\n",
              "      fill: #FFFFFF;\n",
              "    }\n",
              "  </style>\n",
              "\n",
              "    <script>\n",
              "      const buttonEl =\n",
              "        document.querySelector('#df-33b180cf-ec9b-4a50-a858-f7fe25510276 button.colab-df-convert');\n",
              "      buttonEl.style.display =\n",
              "        google.colab.kernel.accessAllowed ? 'block' : 'none';\n",
              "\n",
              "      async function convertToInteractive(key) {\n",
              "        const element = document.querySelector('#df-33b180cf-ec9b-4a50-a858-f7fe25510276');\n",
              "        const dataTable =\n",
              "          await google.colab.kernel.invokeFunction('convertToInteractive',\n",
              "                                                    [key], {});\n",
              "        if (!dataTable) return;\n",
              "\n",
              "        const docLinkHtml = 'Like what you see? Visit the ' +\n",
              "          '<a target=\"_blank\" href=https://colab.research.google.com/notebooks/data_table.ipynb>data table notebook</a>'\n",
              "          + ' to learn more about interactive tables.';\n",
              "        element.innerHTML = '';\n",
              "        dataTable['output_type'] = 'display_data';\n",
              "        await google.colab.output.renderOutput(dataTable, element);\n",
              "        const docLink = document.createElement('div');\n",
              "        docLink.innerHTML = docLinkHtml;\n",
              "        element.appendChild(docLink);\n",
              "      }\n",
              "    </script>\n",
              "  </div>\n",
              "\n",
              "\n",
              "<div id=\"df-2c3b9b02-6279-439d-91aa-c0908e5b10b6\">\n",
              "  <button class=\"colab-df-quickchart\" onclick=\"quickchart('df-2c3b9b02-6279-439d-91aa-c0908e5b10b6')\"\n",
              "            title=\"Suggest charts\"\n",
              "            style=\"display:none;\">\n",
              "\n",
              "<svg xmlns=\"http://www.w3.org/2000/svg\" height=\"24px\"viewBox=\"0 0 24 24\"\n",
              "     width=\"24px\">\n",
              "    <g>\n",
              "        <path d=\"M19 3H5c-1.1 0-2 .9-2 2v14c0 1.1.9 2 2 2h14c1.1 0 2-.9 2-2V5c0-1.1-.9-2-2-2zM9 17H7v-7h2v7zm4 0h-2V7h2v10zm4 0h-2v-4h2v4z\"/>\n",
              "    </g>\n",
              "</svg>\n",
              "  </button>\n",
              "\n",
              "<style>\n",
              "  .colab-df-quickchart {\n",
              "      --bg-color: #E8F0FE;\n",
              "      --fill-color: #1967D2;\n",
              "      --hover-bg-color: #E2EBFA;\n",
              "      --hover-fill-color: #174EA6;\n",
              "      --disabled-fill-color: #AAA;\n",
              "      --disabled-bg-color: #DDD;\n",
              "  }\n",
              "\n",
              "  [theme=dark] .colab-df-quickchart {\n",
              "      --bg-color: #3B4455;\n",
              "      --fill-color: #D2E3FC;\n",
              "      --hover-bg-color: #434B5C;\n",
              "      --hover-fill-color: #FFFFFF;\n",
              "      --disabled-bg-color: #3B4455;\n",
              "      --disabled-fill-color: #666;\n",
              "  }\n",
              "\n",
              "  .colab-df-quickchart {\n",
              "    background-color: var(--bg-color);\n",
              "    border: none;\n",
              "    border-radius: 50%;\n",
              "    cursor: pointer;\n",
              "    display: none;\n",
              "    fill: var(--fill-color);\n",
              "    height: 32px;\n",
              "    padding: 0;\n",
              "    width: 32px;\n",
              "  }\n",
              "\n",
              "  .colab-df-quickchart:hover {\n",
              "    background-color: var(--hover-bg-color);\n",
              "    box-shadow: 0 1px 2px rgba(60, 64, 67, 0.3), 0 1px 3px 1px rgba(60, 64, 67, 0.15);\n",
              "    fill: var(--button-hover-fill-color);\n",
              "  }\n",
              "\n",
              "  .colab-df-quickchart-complete:disabled,\n",
              "  .colab-df-quickchart-complete:disabled:hover {\n",
              "    background-color: var(--disabled-bg-color);\n",
              "    fill: var(--disabled-fill-color);\n",
              "    box-shadow: none;\n",
              "  }\n",
              "\n",
              "  .colab-df-spinner {\n",
              "    border: 2px solid var(--fill-color);\n",
              "    border-color: transparent;\n",
              "    border-bottom-color: var(--fill-color);\n",
              "    animation:\n",
              "      spin 1s steps(1) infinite;\n",
              "  }\n",
              "\n",
              "  @keyframes spin {\n",
              "    0% {\n",
              "      border-color: transparent;\n",
              "      border-bottom-color: var(--fill-color);\n",
              "      border-left-color: var(--fill-color);\n",
              "    }\n",
              "    20% {\n",
              "      border-color: transparent;\n",
              "      border-left-color: var(--fill-color);\n",
              "      border-top-color: var(--fill-color);\n",
              "    }\n",
              "    30% {\n",
              "      border-color: transparent;\n",
              "      border-left-color: var(--fill-color);\n",
              "      border-top-color: var(--fill-color);\n",
              "      border-right-color: var(--fill-color);\n",
              "    }\n",
              "    40% {\n",
              "      border-color: transparent;\n",
              "      border-right-color: var(--fill-color);\n",
              "      border-top-color: var(--fill-color);\n",
              "    }\n",
              "    60% {\n",
              "      border-color: transparent;\n",
              "      border-right-color: var(--fill-color);\n",
              "    }\n",
              "    80% {\n",
              "      border-color: transparent;\n",
              "      border-right-color: var(--fill-color);\n",
              "      border-bottom-color: var(--fill-color);\n",
              "    }\n",
              "    90% {\n",
              "      border-color: transparent;\n",
              "      border-bottom-color: var(--fill-color);\n",
              "    }\n",
              "  }\n",
              "</style>\n",
              "\n",
              "  <script>\n",
              "    async function quickchart(key) {\n",
              "      const quickchartButtonEl =\n",
              "        document.querySelector('#' + key + ' button');\n",
              "      quickchartButtonEl.disabled = true;  // To prevent multiple clicks.\n",
              "      quickchartButtonEl.classList.add('colab-df-spinner');\n",
              "      try {\n",
              "        const charts = await google.colab.kernel.invokeFunction(\n",
              "            'suggestCharts', [key], {});\n",
              "      } catch (error) {\n",
              "        console.error('Error during call to suggestCharts:', error);\n",
              "      }\n",
              "      quickchartButtonEl.classList.remove('colab-df-spinner');\n",
              "      quickchartButtonEl.classList.add('colab-df-quickchart-complete');\n",
              "    }\n",
              "    (() => {\n",
              "      let quickchartButtonEl =\n",
              "        document.querySelector('#df-2c3b9b02-6279-439d-91aa-c0908e5b10b6 button');\n",
              "      quickchartButtonEl.style.display =\n",
              "        google.colab.kernel.accessAllowed ? 'block' : 'none';\n",
              "    })();\n",
              "  </script>\n",
              "</div>\n",
              "    </div>\n",
              "  </div>\n"
            ]
          },
          "metadata": {},
          "execution_count": 7
        }
      ]
    },
    {
      "cell_type": "code",
      "source": [
        "max_date = interactions['datetime'].max()\n",
        "\n",
        "train = interactions[(interactions['datetime'] < max_date - pd.Timedelta(days=7))]\n",
        "test = interactions[(interactions['datetime'] >= max_date - pd.Timedelta(days=7))]\n",
        "\n",
        "\n",
        "# оставляем только теплых пользователей в тесте\n",
        "test = test[test['user_id'].isin(train['user_id'].unique())]\n",
        "\n",
        "print(f\"train: {train.shape}\")\n",
        "print(f\"test: {test.shape}\")"
      ],
      "metadata": {
        "colab": {
          "base_uri": "https://localhost:8080/"
        },
        "id": "YbTdVGxDq47z",
        "outputId": "408004f8-32e1-4086-b8ac-e07803fbfb2a"
      },
      "execution_count": 8,
      "outputs": [
        {
          "output_type": "stream",
          "name": "stdout",
          "text": [
            "train: (4985269, 5)\n",
            "test: (349088, 5)\n"
          ]
        }
      ]
    },
    {
      "cell_type": "code",
      "source": [
        "dataset = Dataset.construct(\n",
        "    interactions_df=train,\n",
        "\n",
        ")\n",
        "dataset"
      ],
      "metadata": {
        "colab": {
          "base_uri": "https://localhost:8080/"
        },
        "id": "x7WjsPAaq66G",
        "outputId": "07d38f72-e847-4183-a689-7b0b1af5fadd"
      },
      "execution_count": 19,
      "outputs": [
        {
          "output_type": "execute_result",
          "data": {
            "text/plain": [
              "Dataset(user_id_map=IdMap(external_ids=array([176549, 699317, 656683, ..., 882138, 805174, 648596])), item_id_map=IdMap(external_ids=array([ 9506,  1659,  7107, ..., 13516, 13019, 10542])), interactions=Interactions(df=         user_id  item_id   weight   datetime\n",
              "0              0        0   4250.0 2021-05-11\n",
              "1              1        1   8317.0 2021-05-29\n",
              "2              2        2     10.0 2021-05-09\n",
              "3              3        3  14483.0 2021-07-05\n",
              "4              4        0   6725.0 2021-04-30\n",
              "...          ...      ...      ...        ...\n",
              "5476244    69627      219   6804.0 2021-08-02\n",
              "5476245    40052      132    753.0 2021-05-12\n",
              "5476246   896790      318     76.0 2021-08-13\n",
              "5476247   206604     2546   2308.0 2021-04-13\n",
              "5476249     7236     1609   6203.0 2021-04-19\n",
              "\n",
              "[4985269 rows x 4 columns]), user_features=None, item_features=None)"
            ]
          },
          "metadata": {},
          "execution_count": 19
        }
      ]
    },
    {
      "cell_type": "code",
      "source": [
        "TEST_USERS = test[Columns.User].unique() #warm users"
      ],
      "metadata": {
        "id": "jxdZo4mgDptp"
      },
      "execution_count": 26,
      "outputs": []
    },
    {
      "cell_type": "markdown",
      "source": [
        "# Hyperparameters"
      ],
      "metadata": {
        "id": "XPKZG-a7zQD3"
      }
    },
    {
      "cell_type": "code",
      "source": [
        "K_RECOS = 10\n",
        "RANDOM_STATE = 42\n",
        "NUM_THREADS = 16\n",
        "N_FACTORS = (32,)\n",
        "N_EPOCHS = 1 # Lightfm\n",
        "USER_ALPHA = 0 # Lightfm\n",
        "ITEM_ALPHA = 0 # Lightfm\n",
        "LEARNING_RATE = 0.05 # Lightfm"
      ],
      "metadata": {
        "id": "vqrqUtPc7Mdk"
      },
      "execution_count": 10,
      "outputs": []
    },
    {
      "cell_type": "code",
      "source": [
        "metrics = {\n",
        "    'MAP@10': MAP(k=10)\n",
        "}"
      ],
      "metadata": {
        "id": "vVstPlSRDwaL"
      },
      "execution_count": 30,
      "outputs": []
    },
    {
      "cell_type": "markdown",
      "source": [
        "# 1. Model Improvement and Hyperparameter Tuning"
      ],
      "metadata": {
        "id": "w9JmrmQHzWVs"
      }
    },
    {
      "cell_type": "markdown",
      "source": [
        "# 1.1 Implicit Model Tuning"
      ],
      "metadata": {
        "id": "a_2VVENj0CTJ"
      }
    },
    {
      "cell_type": "code",
      "source": [
        "def implicit_als_objective(trial):\n",
        "    factors = trial.suggest_int(\"factors\", 10, 300)\n",
        "    regularization = trial.suggest_loguniform(\"regularization\", 1e-5, 1e1)\n",
        "    iterations = trial.suggest_int(\"iterations\", 10, 50)\n",
        "\n",
        "    model = ImplicitALSWrapperModel(\n",
        "        AlternatingLeastSquares(\n",
        "            factors=factors,\n",
        "            regularization=regularization,  # Add regularization parameter\n",
        "            iterations=iterations,  # Add iterations parameter\n",
        "            random_state=RANDOM_STATE,\n",
        "            num_threads=NUM_THREADS\n",
        "        )\n",
        "    )\n",
        "\n",
        "    model.fit(dataset)\n",
        "\n",
        "    recos = model.recommend(\n",
        "        users=TEST_USERS,\n",
        "        dataset=dataset,\n",
        "        k=K_RECOS,\n",
        "        filter_viewed=True,\n",
        "    )\n",
        "\n",
        "    metric_values = calc_metrics(metrics, recos, test, train)['MAP@10']\n",
        "\n",
        "    return metric_values\n",
        "\n",
        "study = optuna.create_study(direction=\"maximize\")\n",
        "study.optimize(implicit_als_objective, n_trials=50)\n",
        "\n",
        "best_params = study.best_params\n",
        "print(f\"Best Hyperparameters: {best_params}\")\n"
      ],
      "metadata": {
        "colab": {
          "base_uri": "https://localhost:8080/"
        },
        "id": "-PB7eu1z0BKs",
        "outputId": "29625aef-059f-4fd4-8b85-709e59413291"
      },
      "execution_count": null,
      "outputs": [
        {
          "metadata": {
            "tags": null
          },
          "name": "stderr",
          "output_type": "stream",
          "text": [
            "[I 2023-12-05 21:21:50,459] A new study created in memory with name: no-name-42fa2bf6-b047-4c12-ae3c-19ce0dada505\n",
            "<ipython-input-86-622bee13944b>:3: FutureWarning: suggest_loguniform has been deprecated in v3.0.0. This feature will be removed in v6.0.0. See https://github.com/optuna/optuna/releases/tag/v3.0.0. Use suggest_float(..., log=True) instead.\n",
            "  regularization = trial.suggest_loguniform(\"regularization\", 1e-5, 1e1)\n"
          ]
        }
      ]
    },
    {
      "cell_type": "markdown",
      "source": [
        "## 1.2 LightFM Model Tuning"
      ],
      "metadata": {
        "id": "SnnPS10nzmnR"
      }
    },
    {
      "cell_type": "code",
      "source": [
        "from lightfm import LightFM\n",
        "from lightfm.cross_validation import random_train_test_split\n",
        "\n",
        "\n",
        "def objective(trial):\n",
        "    num_components = trial.suggest_int(\"num_components\", 10, 200)\n",
        "    learning_rate = trial.suggest_float(\"learning_rate\", 0.01, 0.1)\n",
        "    item_alpha = trial.suggest_float(\"item_alpha\", 1e-6, 1e-3)\n",
        "\n",
        "    model =  LightFMWrapperModel(\n",
        "            LightFM(\n",
        "                no_components=num_components,\n",
        "                loss='warp',\n",
        "                random_state=RANDOM_STATE,\n",
        "                learning_rate=LEARNING_RATE,\n",
        "                user_alpha=USER_ALPHA,\n",
        "                item_alpha=ITEM_ALPHA,\n",
        "            ),\n",
        "            epochs=N_EPOCHS,\n",
        "            num_threads=NUM_THREADS,\n",
        "        )\n",
        "    model.fit(dataset)\n",
        "    recos = model.recommend(\n",
        "        users=TEST_USERS,\n",
        "        dataset=dataset,\n",
        "        k=K_RECOS,\n",
        "        filter_viewed=True,\n",
        "    )\n",
        "    metric_values = calc_metrics(metrics, recos, test, train)['MAP@10']\n",
        "\n",
        "\n",
        "    return metric_values"
      ],
      "metadata": {
        "id": "-zVFBLya3dC_"
      },
      "execution_count": 32,
      "outputs": []
    },
    {
      "cell_type": "code",
      "source": [
        "study = optuna.create_study(direction=\"maximize\", sampler=optuna.samplers.TPESampler())\n",
        "\n",
        "study.optimize(objective, n_trials=10)\n",
        "\n",
        "best_params = study.best_params\n",
        "print(f\"Best Hyperparameters: {best_params}\")"
      ],
      "metadata": {
        "colab": {
          "base_uri": "https://localhost:8080/"
        },
        "id": "aQKs_DoV6tbr",
        "outputId": "8dad193a-b27e-49e1-f2e3-5fd8b8e0e258"
      },
      "execution_count": 33,
      "outputs": [
        {
          "output_type": "stream",
          "name": "stderr",
          "text": [
            "[I 2023-12-05 17:38:48,978] A new study created in memory with name: no-name-0cc02030-fb85-432c-9b9b-339e6506bcac\n",
            "[I 2023-12-05 17:39:47,927] Trial 0 finished with value: 0.08143342209224737 and parameters: {'num_components': 71, 'learning_rate': 0.09867552071845359, 'item_alpha': 0.00014837725367366}. Best is trial 0 with value: 0.08143342209224737.\n",
            "[I 2023-12-05 17:41:32,756] Trial 1 finished with value: 0.08114170218577212 and parameters: {'num_components': 198, 'learning_rate': 0.02081866845144093, 'item_alpha': 5.576693749011004e-05}. Best is trial 0 with value: 0.08143342209224737.\n",
            "[I 2023-12-05 17:43:08,681] Trial 2 finished with value: 0.08183190210800283 and parameters: {'num_components': 182, 'learning_rate': 0.061219890707954625, 'item_alpha': 0.00042705411927839403}. Best is trial 2 with value: 0.08183190210800283.\n",
            "[I 2023-12-05 17:44:00,710] Trial 3 finished with value: 0.08206323218689399 and parameters: {'num_components': 43, 'learning_rate': 0.03616602495588512, 'item_alpha': 0.000836014847926758}. Best is trial 3 with value: 0.08206323218689399.\n",
            "[I 2023-12-05 17:44:45,576] Trial 4 finished with value: 0.08136785595115352 and parameters: {'num_components': 23, 'learning_rate': 0.0494471530411775, 'item_alpha': 0.0009805379164432473}. Best is trial 3 with value: 0.08206323218689399.\n",
            "[I 2023-12-05 17:46:00,125] Trial 5 finished with value: 0.08158559417721786 and parameters: {'num_components': 110, 'learning_rate': 0.012904444009415884, 'item_alpha': 0.0005228687864282418}. Best is trial 3 with value: 0.08206323218689399.\n",
            "[I 2023-12-05 17:46:54,102] Trial 6 finished with value: 0.0821074133979799 and parameters: {'num_components': 46, 'learning_rate': 0.02592156907197242, 'item_alpha': 0.0006750010130431169}. Best is trial 6 with value: 0.0821074133979799.\n",
            "[I 2023-12-05 17:47:47,052] Trial 7 finished with value: 0.0804150217843622 and parameters: {'num_components': 33, 'learning_rate': 0.0989684986577092, 'item_alpha': 0.00031095259008773695}. Best is trial 6 with value: 0.0821074133979799.\n",
            "[I 2023-12-05 17:49:10,921] Trial 8 finished with value: 0.08202722429910396 and parameters: {'num_components': 148, 'learning_rate': 0.02454354989410696, 'item_alpha': 0.0008494955912280154}. Best is trial 6 with value: 0.0821074133979799.\n",
            "[I 2023-12-05 17:49:51,035] Trial 9 finished with value: 0.08169128500840646 and parameters: {'num_components': 13, 'learning_rate': 0.051055055345156, 'item_alpha': 0.0006867052992271544}. Best is trial 6 with value: 0.0821074133979799.\n"
          ]
        },
        {
          "output_type": "stream",
          "name": "stdout",
          "text": [
            "Best Hyperparameters: {'num_components': 46, 'learning_rate': 0.02592156907197242, 'item_alpha': 0.0006750010130431169}\n"
          ]
        }
      ]
    },
    {
      "cell_type": "code",
      "source": [
        "#Using the best Hyperparameters: {'num_components': 46, 'learning_rate': 0.02592156907197242, 'item_alpha': 0.0006750010130431169}\n",
        "#We train the model\n",
        "#Train model with the data\n",
        "model = LightFMWrapperModel(\n",
        "            LightFM(\n",
        "                no_components=46,\n",
        "                loss='warp',\n",
        "                random_state=RANDOM_STATE,\n",
        "                learning_rate=0.02592156907197242\n",
        "            ),\n",
        "            epochs=10,\n",
        "            num_threads=NUM_THREADS,\n",
        "        )\n",
        "\n",
        "model.fit(dataset)"
      ],
      "metadata": {
        "colab": {
          "base_uri": "https://localhost:8080/"
        },
        "id": "cX4oq78AIN2o",
        "outputId": "821b0066-4f17-4182-c702-27e38ee6f9f2"
      },
      "execution_count": 37,
      "outputs": [
        {
          "output_type": "execute_result",
          "data": {
            "text/plain": [
              "<rectools.models.lightfm.LightFMWrapperModel at 0x7e1a2ccb5f60>"
            ]
          },
          "metadata": {},
          "execution_count": 37
        }
      ]
    },
    {
      "cell_type": "markdown",
      "source": [
        "# 1.3 Approximate Nearest Neighbors (ANN)"
      ],
      "metadata": {
        "id": "9mIwhgt-3XEP"
      }
    },
    {
      "cell_type": "code",
      "source": [
        "# Create Annoy index for items\n",
        "def create_ann(item_embedding: np.array, num_trees: int = 10):\n",
        "    item_index = AnnoyIndex(item_embedding.shape[1], 'dot')\n",
        "    for i, item_embedding in enumerate(item_embedding):\n",
        "        item_index.add_item(i, item_embedding)\n",
        "    item_index.build(num_trees)\n",
        "    return item_index"
      ],
      "metadata": {
        "id": "TGOxc6yxu1cb"
      },
      "execution_count": 59,
      "outputs": []
    },
    {
      "cell_type": "code",
      "source": [
        "def generate_custom_recommendations(user_ids: np.array, data: Dataset, model: LightFMWrapperModel):\n",
        "    # Get user embeddings\n",
        "    internal_user_ids = data.user_id_map.to_internal.loc[user_ids].values\n",
        "    user_embeddings, item_embeddings = model.get_vectors(data)\n",
        "    user_embeddings_norm = user_embeddings / np.linalg.norm(user_embeddings, axis=1).reshape(-1, 1)\n",
        "    need_user_embeddings_norm = user_embeddings_norm[internal_user_ids]\n",
        "\n",
        "    # Create Annoy index for items\n",
        "    item_index = create_ann(item_embeddings)\n",
        "\n",
        "    # Make recommendations\n",
        "    custom_recs = []\n",
        "    for i, user_emb in tqdm(enumerate(need_user_embeddings_norm), total=need_user_embeddings_norm.shape[0]):\n",
        "        similar_items = item_index.get_nns_by_vector(user_emb, K_RECOS)\n",
        "        custom_recs.append({\n",
        "            'inner_user_id': i,\n",
        "            'custom_item_id': list(similar_items)\n",
        "        })\n",
        "\n",
        "    # Formatted DataFrame\n",
        "    user_mapping_df = data.user_id_map.to_external.reset_index().rename(columns={'index': 'inner_user_id', 0: 'user_id'})\n",
        "\n",
        "    custom_recs_df = pd.DataFrame(custom_recs)\n",
        "    custom_recs_df = custom_recs_df.explode(column='custom_item_id').reset_index(drop=True).merge(\n",
        "        user_mapping_df, on='inner_user_id')[['user_id', 'custom_item_id']]\n",
        "\n",
        "    custom_recs_df['custom_rank'] = custom_recs_df.groupby('user_id').cumcount()\n",
        "    return custom_recs_df"
      ],
      "metadata": {
        "id": "fdaCtIuFstoH"
      },
      "execution_count": 65,
      "outputs": []
    },
    {
      "cell_type": "code",
      "source": [
        "annoy_recommendations = generate_custom_recommendations(TEST_USERS, dataset, model)\n",
        "calc_metrics(metrics, annoy_recommendations, test, train)"
      ],
      "metadata": {
        "colab": {
          "base_uri": "https://localhost:8080/"
        },
        "id": "ncnhqSlCuxnG",
        "outputId": "a5521a71-893c-4a58-8a98-a28a2ec64214"
      },
      "execution_count": 71,
      "outputs": [
        {
          "output_type": "stream",
          "name": "stderr",
          "text": [
            "100%|██████████| 120519/120519 [00:02<00:00, 43814.89it/s]\n"
          ]
        },
        {
          "output_type": "execute_result",
          "data": {
            "text/plain": [
              "{'MAP@10': 4.5060313170568964e-05}"
            ]
          },
          "metadata": {},
          "execution_count": 71
        }
      ]
    },
    {
      "cell_type": "code",
      "source": [
        "model = LightFMWrapperModel(\n",
        "            LightFM(\n",
        "                no_components=46,\n",
        "                loss='warp',\n",
        "                random_state=RANDOM_STATE,\n",
        "                learning_rate=0.02592156907197242\n",
        "            ),\n",
        "            epochs=10,\n",
        "            num_threads=NUM_THREADS,\n",
        "        )\n",
        "\n",
        "model.fit(dataset)"
      ],
      "metadata": {
        "id": "pXZV_xLIvlmW"
      },
      "execution_count": null,
      "outputs": []
    },
    {
      "cell_type": "markdown",
      "source": [
        "# Save model with pickle for online service"
      ],
      "metadata": {
        "id": "IG1EwQroxP1K"
      }
    },
    {
      "cell_type": "code",
      "source": [
        "import pickle\n",
        "# Save the model to a pickle file\n",
        "with open('model_hw_4.pkl', 'wb') as file:\n",
        "    pickle.dump(model, file)"
      ],
      "metadata": {
        "id": "S0ezt4YzxPF1"
      },
      "execution_count": 68,
      "outputs": []
    }
  ]
}